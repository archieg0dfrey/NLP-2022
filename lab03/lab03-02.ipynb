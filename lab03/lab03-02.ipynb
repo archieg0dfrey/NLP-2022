{
 "cells": [
  {
   "cell_type": "markdown",
   "id": "bd5f1b60",
   "metadata": {},
   "source": [
    "# Lab 03 - Topic Modelling\n",
    "In this lab we will look into building topic models, but will also examine dimensionality reduction and other relevant subjects."
   ]
  },
  {
   "cell_type": "markdown",
   "id": "e92b39d2",
   "metadata": {},
   "source": [
    "## Latent Semantic Analysis (LSA)\n",
    "Based on: [Latent Semantic Analysis using Python](https://www.datacamp.com/community/tutorials/discovering-hidden-topics-python)"
   ]
  },
  {
   "cell_type": "markdown",
   "id": "1b4ba657",
   "metadata": {},
   "source": [
    "### Import the required library"
   ]
  },
  {
   "cell_type": "code",
   "execution_count": 10,
   "id": "3980d00c",
   "metadata": {},
   "outputs": [],
   "source": [
    "import os.path\n",
    "from gensim import corpora\n",
    "from gensim.models import LsiModel\n",
    "from nltk.tokenize import RegexpTokenizer\n",
    "from nltk.corpus import stopwords\n",
    "from nltk.stem.porter import PorterStemmer\n",
    "from gensim.models.coherencemodel import CoherenceModel\n",
    "import matplotlib.pyplot as plt"
   ]
  },
  {
   "cell_type": "markdown",
   "id": "4d73bcd5",
   "metadata": {},
   "source": [
    "### Loading Data\n",
    "This creates a data load function (for loading articles.csv later)"
   ]
  },
  {
   "cell_type": "markdown",
   "id": "a2b7c745",
   "metadata": {},
   "source": [
    "### Challenge 01"
   ]
  },
  {
   "cell_type": "code",
   "execution_count": 11,
   "id": "35d59b41",
   "metadata": {},
   "outputs": [],
   "source": [
    "def load_data(path, file_name):\n",
    "    \"\"\"\n",
    "    Input  : path and file_name\n",
    "    Purpose: loading text file\n",
    "    Output : list of paragraphs/documents and\n",
    "             title(initial 100 words considered as title of document)\n",
    "    \"\"\"\n",
    "    documents_list = []\n",
    "    titles = []\n",
    "    with open(os.path.join(path, file_name), \"r\") as fin:\n",
    "        for line in fin.readlines():\n",
    "            # TODO: strip (remove spaces at the start and end) a doc and add it to the documents list.\n",
    "            text = line.strip()\n",
    "            documents_list.append(text)\n",
    "            \n",
    "    print(\"Total Number of Documents:\", len(documents_list))\n",
    "    titles.append( text[0:min(len(text), 100)] )\n",
    "    return documents_list,titles"
   ]
  },
  {
   "cell_type": "markdown",
   "id": "7b9617a9",
   "metadata": {},
   "source": [
    "### Preprocessing Data\n",
    "After data loading function, you need to preprocess the text. Following steps are taken to preprocess the text:\n",
    "\n",
    "Tokenize the text articles,\n",
    "Remove stop words,\n",
    "Perform stemming on text article."
   ]
  },
  {
   "cell_type": "markdown",
   "id": "ba237a33",
   "metadata": {},
   "source": [
    "### Challenge 02"
   ]
  },
  {
   "cell_type": "code",
   "execution_count": 18,
   "id": "6c7fc406",
   "metadata": {},
   "outputs": [],
   "source": [
    "def preprocess_data(doc_set):\n",
    "    \"\"\"\n",
    "    Input  : document list\n",
    "    Purpose: preprocess text (tokenize, removing stopwords, and stemming)\n",
    "    Output : preprocessed text\n",
    "    \"\"\"\n",
    "    # initialize regex tokenizer\n",
    "    tokenizer = RegexpTokenizer(r'\\w+')\n",
    "    # create English stop words list\n",
    "    en_stop = set(stopwords.words('english'))\n",
    "    # Create p_stemmer of class PorterStemmer\n",
    "    p_stemmer = PorterStemmer()\n",
    "    # list for tokenized documents in loop\n",
    "    texts = []\n",
    "    # loop through document list\n",
    "    for i in doc_set:\n",
    "        # clean and tokenize document string\n",
    "        \n",
    "        # TODO: Convert into lower case and tokenize.\n",
    "        raw = i.lower()\n",
    "        tokens = tokenizer.tokenize(raw)\n",
    "        \n",
    "        # TODO: remove stop words from tokens\n",
    "        stopped_tokens = [i for i in tokens if not i in en_stop]\n",
    "        \n",
    "        # TODO: stem tokens\n",
    "        stemmed_tokens = [p_stemmer.stem(i) for i in tokens]\n",
    "        \n",
    "        # add tokens to list\n",
    "        texts.append(stemmed_tokens)\n",
    "    return texts"
   ]
  },
  {
   "cell_type": "markdown",
   "id": "3675f036",
   "metadata": {},
   "source": [
    "### Prepare Corpus\n",
    "Next step is to prepare the corpus. Here, you need to create a document-term matrix and dictionary of terms."
   ]
  },
  {
   "cell_type": "code",
   "execution_count": 13,
   "id": "723dfab4",
   "metadata": {},
   "outputs": [],
   "source": [
    "def prepare_corpus(doc_clean):\n",
    "    \"\"\"\n",
    "    Input  : clean document\n",
    "    Purpose: create term dictionary of our courpus and Converting list of documents (corpus) into Document Term Matrix\n",
    "    Output : term dictionary and Document Term Matrix\n",
    "    \"\"\"\n",
    "    # Creating the term dictionary of our courpus, where every unique term is assigned an index. dictionary = corpora.Dictionary(doc_clean)\n",
    "    dictionary = corpora.Dictionary(doc_clean)\n",
    "    \n",
    "    # Converting list of documents (corpus) into Document Term Matrix using dictionary prepared above.\n",
    "    doc_term_matrix = [dictionary.doc2bow(doc) for doc in doc_clean]\n",
    "    \n",
    "    return dictionary, doc_term_matrix"
   ]
  },
  {
   "cell_type": "markdown",
   "id": "8b2f88be",
   "metadata": {},
   "source": [
    "### Create an LSA model using Gensim\n",
    "After corpus creation, you can generate a model using LSA."
   ]
  },
  {
   "cell_type": "code",
   "execution_count": 14,
   "id": "9eb6d4f5",
   "metadata": {},
   "outputs": [],
   "source": [
    "def create_gensim_lsa_model(doc_clean,number_of_topics,words):\n",
    "    \"\"\"\n",
    "    Input  : clean document, number of topics and number of words associated with each topic\n",
    "    Purpose: create LSA model using gensim\n",
    "    Output : return LSA model\n",
    "    \"\"\"\n",
    "    dictionary, doc_term_matrix = prepare_corpus(doc_clean)\n",
    "    # generate LSA model\n",
    "    lsamodel = LsiModel(doc_term_matrix, num_topics=number_of_topics, id2word = dictionary)  # train model\n",
    "    print(lsamodel.print_topics(num_topics=number_of_topics, num_words=words))\n",
    "    return lsamodel"
   ]
  },
  {
   "cell_type": "markdown",
   "id": "43be2794",
   "metadata": {},
   "source": [
    "### Determine the number of topics\n",
    "Another extra step needs to be taken to optimize results by identifying an optimum amount of topics. Here, you will generate coherence scores to determine an optimum number of topics."
   ]
  },
  {
   "cell_type": "code",
   "execution_count": 15,
   "id": "70ef86f1",
   "metadata": {},
   "outputs": [],
   "source": [
    "def compute_coherence_values(dictionary, doc_term_matrix, doc_clean, stop, start=2, step=3):\n",
    "    \"\"\"\n",
    "    Input   : dictionary : Gensim dictionary\n",
    "              corpus : Gensim corpus\n",
    "              texts : List of input texts\n",
    "              stop : Max num of topics\n",
    "    purpose : Compute c_v coherence for various number of topics\n",
    "    Output  : model_list : List of LSA topic models\n",
    "              coherence_values : Coherence values corresponding to the LDA model with respective number of topics\n",
    "    \"\"\"\n",
    "    coherence_values = []\n",
    "    model_list = []\n",
    "    for num_topics in range(start, stop, step):\n",
    "        # generate LSA model\n",
    "        model = LsiModel(doc_term_matrix, num_topics=number_of_topics, id2word = dictionary)  # train model\n",
    "        model_list.append(model)\n",
    "        coherencemodel = CoherenceModel(model=model, texts=doc_clean, dictionary=dictionary, coherence='c_v')\n",
    "        coherence_values.append(coherencemodel.get_coherence())\n",
    "    return model_list, coherence_values"
   ]
  },
  {
   "cell_type": "markdown",
   "id": "e549b398",
   "metadata": {},
   "source": [
    "### Challenge 03\n",
    "Let's plot coherence score values"
   ]
  },
  {
   "cell_type": "code",
   "execution_count": 21,
   "id": "f2d88939",
   "metadata": {},
   "outputs": [],
   "source": [
    "def plot_graph(doc_clean,start, stop, step):\n",
    "    \n",
    "    # TODO: Prepare corpus by calling prepare_corpus func.\n",
    "    dictionary,doc_term_matrix = prepare_corpus(doc_clean)\n",
    "    \n",
    "    # TODO: Get coherence values by calling compute_coherence_values func.\n",
    "    model_list, coherence_values = compute_coherence_values(dictionary, doc_term_matrix,doc_clean,\n",
    "                                                            stop, start, step)\n",
    "    \n",
    "    # Show graph\n",
    "    x = range(start, stop, step)\n",
    "    \n",
    "    # TODO: Plot coherence score values\n",
    "    plt.plot(coherence_values)\n",
    "    \n",
    "    plt.xlabel(\"Number of Topics\")\n",
    "    plt.ylabel(\"Coherence score\")\n",
    "    plt.legend((\"coherence_values\"), loc='best')\n",
    "    plt.show()"
   ]
  },
  {
   "cell_type": "markdown",
   "id": "e844ac78",
   "metadata": {},
   "source": [
    "You can easily evaluate this graph. Here, you have a number of topics on X-axis and coherence score on Y-axis. Of the number of topics, 7 have the highest coherence score, so the optimum number of topics are 7."
   ]
  },
  {
   "cell_type": "markdown",
   "id": "2dd832b2",
   "metadata": {},
   "source": [
    "### Run it\n",
    "Run all the above functions"
   ]
  },
  {
   "cell_type": "code",
   "execution_count": 22,
   "id": "73e95362",
   "metadata": {},
   "outputs": [
    {
     "name": "stdout",
     "output_type": "stream",
     "text": [
      "Total Number of Documents: 4551\n",
      "[(0, '0.647*\"the\" + 0.314*\"to\" + 0.267*\"a\" + 0.261*\"of\" + 0.247*\"and\" + 0.216*\"in\" + 0.154*\"s\" + 0.150*\"that\" + 0.128*\"is\" + 0.128*\"it\"'), (1, '0.471*\"the\" + -0.363*\"i\" + -0.330*\"a\" + -0.277*\"trump\" + -0.203*\"s\" + -0.180*\"and\" + -0.167*\"he\" + -0.145*\"you\" + -0.132*\"clinton\" + 0.129*\"eu\"'), (2, '-0.348*\"a\" + -0.320*\"citi\" + -0.298*\"v\" + -0.283*\"h\" + -0.283*\"2017\" + -0.281*\"2016\" + 0.240*\"trump\" + 0.145*\"he\" + -0.136*\"unit\" + 0.135*\"i\"'), (3, '0.495*\"trump\" + -0.260*\"and\" + -0.259*\"i\" + -0.255*\"it\" + 0.209*\"clinton\" + 0.146*\"the\" + 0.145*\"2016\" + 0.144*\"he\" + 0.139*\"h\" + 0.138*\"2017\"'), (4, '0.304*\"i\" + 0.293*\"say\" + -0.288*\"of\" + 0.272*\"he\" + 0.222*\"to\" + 0.208*\"eu\" + -0.188*\"and\" + -0.171*\"in\" + -0.158*\"trump\" + 0.157*\"that\"'), (5, '-0.378*\"of\" + 0.324*\"min\" + 0.321*\"he\" + 0.267*\"s\" + 0.205*\"hi\" + -0.156*\"to\" + 0.144*\"the\" + 0.130*\"but\" + -0.129*\"i\" + -0.128*\"she\"'), (6, '-0.382*\"wa\" + -0.329*\"i\" + 0.301*\"to\" + -0.289*\"the\" + 0.288*\"is\" + -0.257*\"he\" + 0.196*\"are\" + -0.173*\"hi\" + 0.155*\"we\" + 0.144*\"s\"')]\n"
     ]
    }
   ],
   "source": [
    "# LSA Model\n",
    "number_of_topics=7\n",
    "words=10\n",
    "document_list,titles=load_data(\"\", \"./data/articles+4.txt\")\n",
    "clean_text=preprocess_data(document_list)\n",
    "model=create_gensim_lsa_model(clean_text,number_of_topics,words)"
   ]
  },
  {
   "cell_type": "code",
   "execution_count": 23,
   "id": "f57f9041",
   "metadata": {},
   "outputs": [
    {
     "data": {
      "image/png": "[encoded data removed]",
      "text/plain": [
       "<Figure size 432x288 with 1 Axes>"
      ]
     },
     "metadata": {
      "needs_background": "light"
     },
     "output_type": "display_data"
    }
   ],
   "source": [
    "start,stop,step=2,12,1\n",
    "plot_graph(clean_text,start,stop,step)"
   ]
  },
  {
   "cell_type": "code",
   "execution_count": null,
   "id": "adaf6a3b-88ac-4210-afed-459bddcd6ca1",
   "metadata": {},
   "outputs": [],
   "source": []
  }
 ],
 "metadata": {
  "kernelspec": {
   "display_name": "default:Python",
   "language": "python",
   "name": "conda-env-default-py"
  },
  "language_info": {
   "codemirror_mode": {
    "name": "ipython",
    "version": 3
   },
   "file_extension": ".py",
   "mimetype": "text/x-python",
   "name": "python",
   "nbconvert_exporter": "python",
   "pygments_lexer": "ipython3",
   "version": "3.9.7"
  }
 },
 "nbformat": 4,
 "nbformat_minor": 5
}
