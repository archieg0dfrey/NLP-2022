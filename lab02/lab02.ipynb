{
 "cells": [
  {
   "cell_type": "markdown",
   "id": "graduate-florida",
   "metadata": {},
   "source": [
    "# Lab 02 - Feature Vectors and Language Models\n",
    "In this lab we will continue working with words as features, but the focus will be to build language models.\n",
    "\n",
    "First, let's make sure the libraries we'll be using are installed and initialized:"
   ]
  },
  {
   "cell_type": "code",
   "execution_count": 3,
   "id": "30409a91",
   "metadata": {},
   "outputs": [
    {
     "name": "stdout",
     "output_type": "stream",
     "text": [
      "Requirement already satisfied: numpy in /home/studio-lab-user/.conda/envs/default/lib/python3.9/site-packages (1.22.2)\n",
      "Requirement already satisfied: pandas in /home/studio-lab-user/.conda/envs/default/lib/python3.9/site-packages (1.4.1)\n",
      "Requirement already satisfied: nltk in /home/studio-lab-user/.conda/envs/default/lib/python3.9/site-packages (3.7)\n",
      "Requirement already satisfied: matplotlib in /home/studio-lab-user/.conda/envs/default/lib/python3.9/site-packages (3.5.1)\n",
      "Requirement already satisfied: pytz>=2020.1 in /home/studio-lab-user/.conda/envs/default/lib/python3.9/site-packages (from pandas) (2021.3)\n",
      "Requirement already satisfied: python-dateutil>=2.8.1 in /home/studio-lab-user/.conda/envs/default/lib/python3.9/site-packages (from pandas) (2.8.2)\n",
      "Requirement already satisfied: click in /home/studio-lab-user/.conda/envs/default/lib/python3.9/site-packages (from nltk) (8.0.4)\n",
      "Requirement already satisfied: joblib in /home/studio-lab-user/.conda/envs/default/lib/python3.9/site-packages (from nltk) (1.1.0)\n",
      "Requirement already satisfied: regex>=2021.8.3 in /home/studio-lab-user/.conda/envs/default/lib/python3.9/site-packages (from nltk) (2022.1.18)\n",
      "Requirement already satisfied: tqdm in /home/studio-lab-user/.conda/envs/default/lib/python3.9/site-packages (from nltk) (4.62.3)\n",
      "Requirement already satisfied: pyparsing>=2.2.1 in /home/studio-lab-user/.conda/envs/default/lib/python3.9/site-packages (from matplotlib) (3.0.6)\n",
      "Requirement already satisfied: packaging>=20.0 in /home/studio-lab-user/.conda/envs/default/lib/python3.9/site-packages (from matplotlib) (21.3)\n",
      "Requirement already satisfied: cycler>=0.10 in /home/studio-lab-user/.conda/envs/default/lib/python3.9/site-packages (from matplotlib) (0.11.0)\n",
      "Requirement already satisfied: kiwisolver>=1.0.1 in /home/studio-lab-user/.conda/envs/default/lib/python3.9/site-packages (from matplotlib) (1.3.2)\n",
      "Requirement already satisfied: pillow>=6.2.0 in /home/studio-lab-user/.conda/envs/default/lib/python3.9/site-packages (from matplotlib) (9.0.1)\n",
      "Requirement already satisfied: fonttools>=4.22.0 in /home/studio-lab-user/.conda/envs/default/lib/python3.9/site-packages (from matplotlib) (4.29.1)\n",
      "Requirement already satisfied: six>=1.5 in /home/studio-lab-user/.conda/envs/default/lib/python3.9/site-packages (from python-dateutil>=2.8.1->pandas) (1.16.0)\n",
      "Note: you may need to restart the kernel to use updated packages.\n"
     ]
    }
   ],
   "source": [
    "%pip install numpy pandas nltk matplotlib\n",
    "%matplotlib inline"
   ]
  },
  {
   "cell_type": "markdown",
   "id": "5fd7019d",
   "metadata": {},
   "source": [
    "\n",
    "## Words as Feature Vectors\n",
    "First, let's look at some text collections directly available in [NLTK](https://www.nltk.org).\n",
    "\n",
    "To explore all the available Corpora in NLTK we just need to run a command and list the available resources, after we have downloaded them. The documentation on NLTK's [website](https://www.nltk.org/book/ch02.html) will give you more details on each Corpus.\n",
    "\n",
    "There are many interesting collections such as: the Gutenberg collection of books, the  Brown collection of news, novels and other stories, and the USA presidential inaugural speeches.\n",
    "\n",
    "Let's start by downloading the resources. NLTK's `download()` command will launch a GUI, or a CLI to let you select the data you want to install.\n",
    "\n",
    "**Use it to download the `inaugural` Corpus.**"
   ]
  },
  {
   "cell_type": "code",
   "execution_count": 4,
   "id": "first-trading",
   "metadata": {},
   "outputs": [
    {
     "name": "stdout",
     "output_type": "stream",
     "text": [
      "NLTK Downloader\n",
      "---------------------------------------------------------------------------\n",
      "    d) Download   l) List    u) Update   c) Config   h) Help   q) Quit\n",
      "---------------------------------------------------------------------------\n"
     ]
    },
    {
     "name": "stdin",
     "output_type": "stream",
     "text": [
      "Downloader>  q\n"
     ]
    },
    {
     "data": {
      "text/plain": [
       "True"
      ]
     },
     "execution_count": 4,
     "metadata": {},
     "output_type": "execute_result"
    }
   ],
   "source": [
    "import nltk\n",
    "\n",
    "nltk.download()"
   ]
  },
  {
   "cell_type": "markdown",
   "id": "paperback-morris",
   "metadata": {},
   "source": [
    "Now we should be able to list the downloaded resources as well."
   ]
  },
  {
   "cell_type": "code",
   "execution_count": 5,
   "id": "acknowledged-principal",
   "metadata": {},
   "outputs": [
    {
     "name": "stdout",
     "output_type": "stream",
     "text": [
      "['inaugural.zip', 'inaugural', 'stopwords.zip', 'stopwords', 'wordnet.zip', 'wordnet', 'omw-1.4.zip', 'omw-1.4']\n"
     ]
    }
   ],
   "source": [
    "import os\n",
    "\n",
    "print(os.listdir(nltk.data.find(\"corpora\")))"
   ]
  },
  {
   "cell_type": "markdown",
   "id": "concerned-casino",
   "metadata": {},
   "source": [
    "So to start with, let's experiment with the USA Presidential inaugural speeches."
   ]
  },
  {
   "cell_type": "code",
   "execution_count": 6,
   "id": "fixed-metropolitan",
   "metadata": {},
   "outputs": [
    {
     "name": "stdout",
     "output_type": "stream",
     "text": [
      "['1789-Washington.txt', '1793-Washington.txt', '1797-Adams.txt', '1801-Jefferson.txt', '1805-Jefferson.txt', '1809-Madison.txt', '1813-Madison.txt', '1817-Monroe.txt', '1821-Monroe.txt', '1825-Adams.txt', '1829-Jackson.txt', '1833-Jackson.txt', '1837-VanBuren.txt', '1841-Harrison.txt', '1845-Polk.txt', '1849-Taylor.txt', '1853-Pierce.txt', '1857-Buchanan.txt', '1861-Lincoln.txt', '1865-Lincoln.txt', '1869-Grant.txt', '1873-Grant.txt', '1877-Hayes.txt', '1881-Garfield.txt', '1885-Cleveland.txt', '1889-Harrison.txt', '1893-Cleveland.txt', '1897-McKinley.txt', '1901-McKinley.txt', '1905-Roosevelt.txt', '1909-Taft.txt', '1913-Wilson.txt', '1917-Wilson.txt', '1921-Harding.txt', '1925-Coolidge.txt', '1929-Hoover.txt', '1933-Roosevelt.txt', '1937-Roosevelt.txt', '1941-Roosevelt.txt', '1945-Roosevelt.txt', '1949-Truman.txt', '1953-Eisenhower.txt', '1957-Eisenhower.txt', '1961-Kennedy.txt', '1965-Johnson.txt', '1969-Nixon.txt', '1973-Nixon.txt', '1977-Carter.txt', '1981-Reagan.txt', '1985-Reagan.txt', '1989-Bush.txt', '1993-Clinton.txt', '1997-Clinton.txt', '2001-Bush.txt', '2005-Bush.txt', '2009-Obama.txt', '2013-Obama.txt', '2017-Trump.txt', '2021-Biden.txt']\n"
     ]
    }
   ],
   "source": [
    "from nltk.corpus import inaugural\n",
    "print(inaugural.fileids())"
   ]
  },
  {
   "cell_type": "markdown",
   "id": "particular-beginning",
   "metadata": {},
   "source": [
    "Lets print Trump's one!"
   ]
  },
  {
   "cell_type": "code",
   "execution_count": 7,
   "id": "partial-boards",
   "metadata": {},
   "outputs": [
    {
     "name": "stdout",
     "output_type": "stream",
     "text": [
      "Chief Justice Roberts, President Carter, President Clinton, President Bush, President Obama, fellow Americans, and people of the world: Thank you.\n",
      "\n",
      "We, the citizens of America, are now joined in a great national effort to rebuild our country and restore its promise for all of our people. Together, we will determine the course of America and the world for many, many years to come. We will face challenges, we will confront hardships, but we will get the job done.\n",
      "\n",
      "Every 4 years, we gather on these steps to carry out the orderly and peaceful transfer of power, and we are grateful to President Obama and First Lady Michelle Obama for their gracious aid throughout this transition. They have been magnificent. Thank you.\n",
      "\n",
      "Today's ceremony, however, has very special meaning. Because today we are not merely transferring power from one administration to another or from one party to another, but we are transferring power from Washington, DC, and giving it back to you, the people.\n",
      "\n",
      "For too long, a small group in our Nation's Capital has reaped the rewards of Government while the people have borne the cost. Washington flourished, but the people did not share in its wealth. Politicians prospered, but the jobs left, and the factories closed. The establishment protected itself, but not the citizens of our country. Their victories have not been your victories; their triumphs have not been your triumphs; and while they celebrated in our Nation's Capital, there was little to celebrate for struggling families all across our land.\n",
      "\n",
      "That all changes, starting right here and right now, because this moment is your moment: It belongs to you. It belongs to everyone gathered here today and everyone watching all across America. This is your day. This is your celebration. And this, the United States of America, is your country.\n",
      "\n",
      "What truly matters is not which party controls our Government, but whether our Government is controlled by the people. January 20, 2017, will be remembered as the day the people became the rulers of this Nation again. The forgotten men and women of our country will be forgotten no longer. Everyone is listening to you now.\n",
      "\n",
      "You came by the tens of millions to become part of a historic movement the likes of which the world has never seen before. At the center of this movement is a crucial conviction: that a nation exists to serve its citizens. Americans want great schools for their children, safe neighborhoods for their families, and good jobs for themselves. These are just and reasonable demands of righteous people and a righteous public.\n",
      "\n",
      "But for too many of our citizens, a different reality exists: Mothers and children trapped in poverty in our inner cities; rusted-out factories scattered like tombstones across the landscape of our Nation; an education system, flush with cash, but which leaves our young and beautiful students deprived of all knowledge; and the crime and the gangs and the drugs that have stolen too many lives and robbed our country of so much unrealized potential.\n",
      "\n",
      "This American carnage stops right here and stops right now. We are one Nation, and their pain is our pain, their dreams are our dreams, and their success will be our success. We share one heart, one home, and one glorious destiny.\n",
      "\n",
      "The oath of office I take today is an oath of allegiance to all Americans.\n",
      "\n",
      "For many decades, we've enriched foreign industry at the expense of American industry, subsidized the armies of other countries while allowing for the very sad depletion of our military. We've defended other nations' borders while refusing to defend our own and spent trillions and trillions of dollars overseas while America's infrastructure has fallen into disrepair and decay. We've made other countries rich while the wealth, strength, and confidence of our country has dissipated over the horizon.\n",
      "\n",
      "One by one, the factories shuttered and left our shores, with not even a thought about the millions and millions of American workers that were left behind. The wealth of our middle class has been ripped from their homes and then redistributed all across the world.\n",
      "\n",
      "But that is the past. And now we are looking only to the future.\n",
      "\n",
      "We, assembled here today, are issuing a new decree to be heard in every city, in every foreign capital, and in every hall of power. From this day forward, a new vision will govern our land. From this this day forward, it's going to be only America first. America first.\n",
      "\n",
      "Every decision on trade, on taxes, on immigration, on foreign affairs, will be made to benefit American workers and American families.\n",
      "\n",
      "We must protect our borders from the ravages of other countries making our products, stealing our companies, and destroying our jobs. Protection will lead to great prosperity and strength. I will fight for you with every breath in my body, and I will never, ever let you down.\n",
      "\n",
      "America will start winning again, winning like never before. We will bring back our jobs. We will bring back our borders. We will bring back our wealth. And we will bring back our dreams.\n",
      "\n",
      "We will build new roads and highways and bridges and airports and tunnels and railways all across our wonderful Nation.\n",
      "\n",
      "We will get our people off of welfare and back to work, rebuilding our country with American hands and American labor. We will follow two simple rules: Buy American and hire American.\n",
      "\n",
      "We will seek friendship and good will with the nations of the world, but we do so with the understanding that it is the right of all nations to put their own interests first. We do not seek to impose our way of life on anyone, but rather to let it shine as an exampleâwe will shineâfor everyone to follow.\n",
      "\n",
      "We will reinforce old alliances and form new ones and unite the civilized world against radical Islamic terrorism, which we will eradicate completely from the face of the Earth.\n",
      "\n",
      "At the bedrock of our politics will be a total allegiance to the United States of America, and through our loyalty to our country, we will rediscover our loyalty to each other. When you open your heart to patriotism, there is no room for prejudice. The Bible tells us, \"How good and pleasant it is when God's people live together in unity.\" We must speak our minds openly, debate our disagreements honestly, but always pursue solidarity. When America is united, America is totally unstoppable. There should be no fear: We are protected, and we will always be protected. We will be protected by the great men and women of our military and law enforcement, and most importantly, we will be protected by God.\n",
      "\n",
      "Finally, we must think big and dream even bigger. In America, we understand that a nation is only living as long as it is striving.\n",
      "\n",
      "We will no longer accept politicians who are all talk and no action, constantly complaining, but never doing anything about it. The time for empty talk is over. Now arrives the hour of action.\n",
      "\n",
      "Do not allow anyone to tell you that it cannot be done. No challenge can match the heart and fight and spirit of America. We will not fail. Our country will thrive and prosper again.\n",
      "\n",
      "We stand at the birth of a new millennium, ready to unlock the mysteries of space, to free the Earth from the miseries of disease, and to harness the energies, industries, and technologies of tomorrow. A new national pride will stir our souls, lift our sights, and heal our divisions.\n",
      "\n",
      "It's time to remember that old wisdom our soldiers will never forget: that whether we are Black or Brown or White, we all bleed the same red blood of patriots, we all enjoy the same glorious freedoms, and we all salute the same great American flag.\n",
      "\n",
      "And whether a child is born in the urban sprawl of Detroit or the windswept plains of Nebraska, they look up at the same night sky, they fill their heart with the same dreams, and they are infused with the breath of life by the same almighty Creator.\n",
      "\n",
      "So to all Americans in every city near and far, small and large, from mountain to mountain, from ocean to ocean, hear these words: You will never be ignored again. Your voice, your hopes, and your dreams will define our American destiny. And your courage and goodness and love will forever guide us along the way.\n",
      "\n",
      "Together, we will make America strong again. We will make America wealthy again. We will make America proud again. We will make America safe again.\n",
      "\n",
      "And, yes, together, we will make America great again. Thank you. God bless you, and God bless America. Thank you. God bless America.\n",
      "\n"
     ]
    }
   ],
   "source": [
    "doc = \"2017-Trump.txt\"\n",
    "print(inaugural.raw(doc))"
   ]
  },
  {
   "cell_type": "markdown",
   "id": "animal-colonial",
   "metadata": {},
   "source": [
    "NLTK corpora gives us all the words and sentences as well as other statistics out of the box."
   ]
  },
  {
   "cell_type": "code",
   "execution_count": 8,
   "id": "bulgarian-memorabilia",
   "metadata": {},
   "outputs": [
    {
     "name": "stdout",
     "output_type": "stream",
     "text": [
      "['Chief', 'Justice', 'Roberts', ',', 'President', ...]\n"
     ]
    }
   ],
   "source": [
    "print(inaugural.words(doc))"
   ]
  },
  {
   "cell_type": "code",
   "execution_count": 9,
   "id": "invalid-convenience",
   "metadata": {},
   "outputs": [
    {
     "name": "stdout",
     "output_type": "stream",
     "text": [
      "[['Chief', 'Justice', 'Roberts', ',', 'President', 'Carter', ',', 'President', 'Clinton', ',', 'President', 'Bush', ',', 'President', 'Obama', ',', 'fellow', 'Americans', ',', 'and', 'people', 'of', 'the', 'world', ':', 'Thank', 'you', '.'], ['We', ',', 'the', 'citizens', 'of', 'America', ',', 'are', 'now', 'joined', 'in', 'a', 'great', 'national', 'effort', 'to', 'rebuild', 'our', 'country', 'and', 'restore', 'its', 'promise', 'for', 'all', 'of', 'our', 'people', '.'], ...]\n"
     ]
    },
    {
     "name": "stderr",
     "output_type": "stream",
     "text": [
      "[nltk_data] Downloading package punkt to /home/studio-lab-\n",
      "[nltk_data]     user/nltk_data...\n",
      "[nltk_data]   Package punkt is already up-to-date!\n"
     ]
    }
   ],
   "source": [
    "nltk.download(\"punkt\")\n",
    "print(inaugural.sents(doc))"
   ]
  },
  {
   "cell_type": "markdown",
   "id": "characteristic-caribbean",
   "metadata": {},
   "source": [
    "## Challenge 01\n",
    "Given this incomplete function, write the necessary `TODO X` code to let the function return the total number of words and the total number of distinct words, for a given document name in that corpus."
   ]
  },
  {
   "cell_type": "code",
   "execution_count": 10,
   "id": "formal-package",
   "metadata": {},
   "outputs": [],
   "source": [
    "def calculate_inaugural_stats(doc):\n",
    "    # TODO 1 - Get the pre-tokenised list of words from the inaugural corpus\n",
    "    doc_words = inaugural.words(doc)\n",
    "\n",
    "    # TODO 2 - Calculate the total number of words\n",
    "    num_words = len(doc_words)\n",
    "\n",
    "    # TODO 3 - Calculate the total number of distinct words (vocabulary)\n",
    "    vocab = len(set(doc_words))\n",
    "\n",
    "    return num_words, vocab"
   ]
  },
  {
   "cell_type": "markdown",
   "id": "returning-seller",
   "metadata": {},
   "source": [
    "Now let's test it!"
   ]
  },
  {
   "cell_type": "code",
   "execution_count": 11,
   "id": "passing-bride",
   "metadata": {},
   "outputs": [
    {
     "name": "stdout",
     "output_type": "stream",
     "text": [
      "Num words in 2017-Trump.txt: 1693\n",
      "Vocabulary size: 582\n"
     ]
    }
   ],
   "source": [
    "def print_inaugural_stats(speech_name):\n",
    "    tokens, vocab = calculate_inaugural_stats(speech_name)\n",
    "    print(f\"Num words in {speech_name}: {tokens}\")\n",
    "    print(f\"Vocabulary size: {vocab}\")\n",
    "\n",
    "print_inaugural_stats(\"2017-Trump.txt\")"
   ]
  },
  {
   "cell_type": "markdown",
   "id": "divided-while",
   "metadata": {},
   "source": [
    "Let's compare Trump's speech against Obama's inaugural speech..."
   ]
  },
  {
   "cell_type": "code",
   "execution_count": 12,
   "id": "norman-large",
   "metadata": {},
   "outputs": [
    {
     "name": "stdout",
     "output_type": "stream",
     "text": [
      "Num words in 2009-Obama.txt: 2726\n",
      "Vocabulary size: 938\n"
     ]
    }
   ],
   "source": [
    "print_inaugural_stats(\"2009-Obama.txt\")"
   ]
  },
  {
   "cell_type": "markdown",
   "id": "educational-liberal",
   "metadata": {},
   "source": [
    "## Challenge 02\n",
    "Complete the missing code (`TODO X`) in the function to calculate the average word length (i.e. number of characters per word) of a given document."
   ]
  },
  {
   "cell_type": "code",
   "execution_count": 13,
   "id": "suspended-superintendent",
   "metadata": {},
   "outputs": [],
   "source": [
    "def calculate_inaugural_word_stats(doc):\n",
    "    doc_words = inaugural.words(doc)\n",
    "\n",
    "    # TODO 1 - Construct a list that contains the word lengths for each DISTINCT word in the document\n",
    "    vocab_lengths = [len(x) for x in doc_words]\n",
    "\n",
    "    # TODO 2 - Find the average word type length\n",
    "    avg_vocab_length = sum(vocab_lengths)/len(vocab_lengths)\n",
    "\n",
    "    return avg_vocab_length"
   ]
  },
  {
   "cell_type": "markdown",
   "id": "hollywood-salem",
   "metadata": {},
   "source": [
    "Let's try it!"
   ]
  },
  {
   "cell_type": "code",
   "execution_count": 14,
   "id": "planned-mainstream",
   "metadata": {},
   "outputs": [
    {
     "name": "stdout",
     "output_type": "stream",
     "text": [
      "Average word length for 2017-Trump.txt: 4.11 characters long\n"
     ]
    }
   ],
   "source": [
    "speech_name = \"2017-Trump.txt\"\n",
    "avg_length = calculate_inaugural_word_stats(speech_name)\n",
    "print(f\"Average word length for {speech_name}: {avg_length:.2f} characters long\")"
   ]
  },
  {
   "cell_type": "markdown",
   "id": "blond-melissa",
   "metadata": {},
   "source": [
    "Now it will be interesting to look at the word distribution and see how the last two USA Presidents compare. NLTK again has a nice class with functions for that, `FreqDist`!"
   ]
  },
  {
   "cell_type": "code",
   "execution_count": 15,
   "id": "breathing-equation",
   "metadata": {},
   "outputs": [
    {
     "name": "stdout",
     "output_type": "stream",
     "text": [
      "\n",
      "OBAMA\n",
      " [('the', 135), (',', 130), ('and', 111), ('.', 108), ('of', 82), ('to', 70), ('our', 67), ('we', 62), ('that', 49), ('a', 47), ('is', 36), ('in', 25), ('this', 24), ('us', 23), ('for', 23), ('are', 22), (';', 22), ('--', 22), ('but', 20), ('it', 19), ('will', 19), ('on', 17), ('they', 17), ('have', 16), ('not', 16), ('you', 14), ('has', 14), ('who', 14), ('with', 13), (\"'\", 13), ('can', 13), ('nation', 12), ('be', 12), ('s', 12), ('as', 11), ('or', 11), ('those', 11), ('new', 11), ('america', 10), ('their', 10), ('-', 9), ('so', 9), ('these', 9), ('all', 9), ('by', 8), ('been', 8), ('every', 8), ('at', 8), ('because', 8), ('must', 8)]\n",
      "\n",
      "TRUMP\n",
      " [(',', 106), ('.', 89), ('and', 76), ('the', 71), ('we', 50), ('of', 48), ('our', 48), ('will', 43), ('to', 37), ('america', 20), ('is', 20), ('a', 15), ('for', 15), ('you', 14), ('in', 14), ('all', 14), ('are', 13), ('but', 13), ('be', 13), ('their', 11), ('this', 11), (\"'\", 11), ('from', 11), ('it', 11), ('your', 11), ('american', 11), ('people', 10), ('not', 10), ('that', 10), ('country', 9), ('again', 9), (':', 8), ('one', 8), ('nation', 8), ('with', 8), ('every', 7), ('s', 7), ('world', 6), ('now', 6), ('great', 6), ('on', 6), ('has', 6), ('back', 6), ('while', 6), ('by', 6), ('no', 6), ('never', 6), ('new', 6), ('same', 6), ('president', 5)]\n"
     ]
    }
   ],
   "source": [
    "from nltk import FreqDist\n",
    "\n",
    "obama_words = inaugural.words(\"2009-Obama.txt\")\n",
    "trump_words = inaugural.words(\"2017-Trump.txt\")\n",
    "\n",
    "# Construct a frequency distribution over the lowercased words in the document\n",
    "fd_obama = FreqDist(w.lower() for w in obama_words)\n",
    "# Find the top 50 most frequently used words in the speech\n",
    "print(\"\\nOBAMA\\n\", fd_obama.most_common(50))\n",
    "\n",
    "# Construct a frequency distribution over the lowercased words in the document\n",
    "fd_trump = FreqDist(w.lower() for w in trump_words)\n",
    "# Find the top 50 most frequently used words in the speech\n",
    "print(\"\\nTRUMP\\n\", fd_trump.most_common(50))"
   ]
  },
  {
   "cell_type": "markdown",
   "id": "crude-trouble",
   "metadata": {},
   "source": [
    "As you might have expected... popular words in Trump's speech are: `will`, `america`, `american`, `people`, `country`, `again`... :-)\n",
    "\n",
    "Now let's plot the distributions!"
   ]
  },
  {
   "cell_type": "code",
   "execution_count": 16,
   "id": "pediatric-domestic",
   "metadata": {},
   "outputs": [
    {
     "data": {
      "image/png": "[encoded data removed]",
      "text/plain": [
       "<Figure size 432x288 with 1 Axes>"
      ]
     },
     "metadata": {
      "needs_background": "light"
     },
     "output_type": "display_data"
    },
    {
     "data": {
      "image/png": "[encoded data removed]",
      "text/plain": [
       "<Figure size 432x288 with 1 Axes>"
      ]
     },
     "metadata": {
      "needs_background": "light"
     },
     "output_type": "display_data"
    },
    {
     "data": {
      "text/plain": [
       "<AxesSubplot:xlabel='Samples', ylabel='Counts'>"
      ]
     },
     "execution_count": 16,
     "metadata": {},
     "output_type": "execute_result"
    }
   ],
   "source": [
    "fd_obama.plot(50)\n",
    "fd_trump.plot(50)"
   ]
  },
  {
   "cell_type": "markdown",
   "id": "endangered-painting",
   "metadata": {},
   "source": [
    "Those distributions are \"normal\" and most documents or corpora will follow a very similar curve.\n",
    "\n",
    "Let's compare some word frequencies now between the two Presidents"
   ]
  },
  {
   "cell_type": "code",
   "execution_count": 17,
   "id": "honey-strip",
   "metadata": {},
   "outputs": [
    {
     "name": "stdout",
     "output_type": "stream",
     "text": [
      "Obama -> peace: 4 - america: 10\n",
      "Trump -> peace: 0 - america: 20\n"
     ]
    }
   ],
   "source": [
    "print(f\"Obama -> peace: {fd_obama['peace']} - america: {fd_obama['america']}\")\n",
    "print(f\"Trump -> peace: {fd_trump['peace']} - america: {fd_trump['america']}\")"
   ]
  },
  {
   "cell_type": "markdown",
   "id": "opponent-scholar",
   "metadata": {},
   "source": [
    "## Challenge 03\n",
    "Let's try to build a similar function that calculates the top most frequent words in a document, but using the `Counter` class that we used in the previous lab. Complete the `TODO X` sections."
   ]
  },
  {
   "cell_type": "code",
   "execution_count": 22,
   "id": "brown-defense",
   "metadata": {},
   "outputs": [],
   "source": [
    "from collections import Counter\n",
    "\n",
    "def get_top_freq(doc, k=50):\n",
    "    doc_words = inaugural.words(doc)\n",
    "    \n",
    "    # TODO 1 - Construct a frequency distribution over the words in the document, ensuring all words are lowercase\n",
    "    fd_doc_words = Counter([x.lower() for x in doc_words])\n",
    "    \n",
    "    # TODO 2 - Find the top x most frequently used words in the document\n",
    "    top_words = fd_doc_words.most_common(50)\n",
    "\n",
    "    return top_words"
   ]
  },
  {
   "cell_type": "markdown",
   "id": "cultural-market",
   "metadata": {},
   "source": [
    "Now let's test it!"
   ]
  },
  {
   "cell_type": "code",
   "execution_count": 23,
   "id": "reduced-authentication",
   "metadata": {},
   "outputs": [
    {
     "name": "stdout",
     "output_type": "stream",
     "text": [
      "Top 50 words for Trump's 2017 speech:\n",
      "[(',', 106), ('.', 89), ('and', 76), ('the', 71), ('we', 50), ('of', 48), ('our', 48), ('will', 43), ('to', 37), ('america', 20), ('is', 20), ('a', 15), ('for', 15), ('you', 14), ('in', 14), ('all', 14), ('are', 13), ('but', 13), ('be', 13), ('their', 11), ('this', 11), (\"'\", 11), ('from', 11), ('it', 11), ('your', 11), ('american', 11), ('people', 10), ('not', 10), ('that', 10), ('country', 9), ('again', 9), (':', 8), ('one', 8), ('nation', 8), ('with', 8), ('every', 7), ('s', 7), ('world', 6), ('now', 6), ('great', 6), ('on', 6), ('has', 6), ('back', 6), ('while', 6), ('by', 6), ('no', 6), ('never', 6), ('new', 6), ('same', 6), ('president', 5)]\n"
     ]
    }
   ],
   "source": [
    "print(f\"Top 50 words for Trump's 2017 speech:\\n{get_top_freq('2017-Trump.txt')}\")"
   ]
  },
  {
   "cell_type": "markdown",
   "id": "common-slide",
   "metadata": {},
   "source": [
    "## Challenge 04\n",
    "Now let's try to build a TFIDF feature vector!\n",
    "\n",
    "The first thing is to calculate the Term Frequency (TF).\n",
    "\n",
    "There are different ways to calculate the Term Frequency. Try to implement the formula $tf_{t,d}=\\frac{count(t,d)}{count(d)}$ that we used before in the lecture. Complete the `TODO X` section."
   ]
  },
  {
   "cell_type": "code",
   "execution_count": 24,
   "id": "challenging-chinese",
   "metadata": {},
   "outputs": [],
   "source": [
    "def calculate_tf(token_count, bow):\n",
    "    tf = {}\n",
    "    num_bow = len(bow)\n",
    "\n",
    "    for token, count in token_count.items():\n",
    "        # TODO - Calculate the term frequency using the formula:\n",
    "        # \"count of term in the document\" / \"total number of words in the document\"\n",
    "        tf[token] = count/num_bow\n",
    "\n",
    "    return tf"
   ]
  },
  {
   "cell_type": "markdown",
   "id": "recovered-quest",
   "metadata": {},
   "source": [
    "Let's try it!"
   ]
  },
  {
   "cell_type": "code",
   "execution_count": 25,
   "id": "invisible-found",
   "metadata": {},
   "outputs": [],
   "source": [
    "tokens_01 = inaugural.words(\"2017-Trump.txt\")\n",
    "tokens_02 = inaugural.words(\"2009-Obama.txt\")\n",
    "vocab = set(tokens_01).union(set(tokens_02))\n",
    "\n",
    "def _get_tf(tokens, vocab):\n",
    "    token_count = dict.fromkeys(vocab, 0)\n",
    "    for token in tokens:\n",
    "        token_count[token] += 1\n",
    "    return calculate_tf(token_count, tokens)\n",
    "\n",
    "tf_01 = _get_tf(tokens_01, vocab)\n",
    "tf_02 = _get_tf(tokens_02, vocab)\n"
   ]
  },
  {
   "cell_type": "markdown",
   "id": "professional-european",
   "metadata": {},
   "source": [
    "## Challenge 05\n",
    "Now that we have our term frequency, let's calculate the Inverse Term Frequency (IDF) for a list of documents.\n",
    "\n",
    "We are going to use the original formula here: $\\log{\\frac{N}{n_t}}$, where $N$ is the number of documents and $n_t$ is the number of documents that contain the term $t$. Complete the `TODO X` sections."
   ]
  },
  {
   "cell_type": "code",
   "execution_count": 27,
   "id": "ethical-environment",
   "metadata": {},
   "outputs": [],
   "source": [
    "import math\n",
    "\n",
    "def calculate_idf(docs):\n",
    "    N = len(docs)\n",
    "    \n",
    "    # TODO 1 - Initialise a new dictionary with the keys from the documents and the values set to 0\n",
    "    idf = {x: 0 for x in set(list(docs[0].keys()) + list(docs[1].keys()))}\n",
    "    for doc in docs:\n",
    "        for word, val in doc.items():\n",
    "            if val > 0:\n",
    "                # TODO 2 - Increase the idf dictionary counter by one\n",
    "                idf[word] = idf[word] + 1\n",
    "    \n",
    "    for word, val in idf.items():\n",
    "        idf[word] = math.log(N / float(val))\n",
    "\n",
    "    return idf"
   ]
  },
  {
   "cell_type": "markdown",
   "id": "aquatic-textbook",
   "metadata": {},
   "source": [
    "Now let's collect all the IDFs."
   ]
  },
  {
   "cell_type": "code",
   "execution_count": 28,
   "id": "specialized-bernard",
   "metadata": {},
   "outputs": [],
   "source": [
    "tfs = [tf_01, tf_02]\n",
    "idfs = calculate_idf(tfs)"
   ]
  },
  {
   "cell_type": "markdown",
   "id": "posted-child",
   "metadata": {},
   "source": [
    "## Challenge 06\n",
    "And finally... the TFIDF calculation.\n",
    "\n",
    "Calculate the TFIDF for all the documents. Complete the `TODO X` section."
   ]
  },
  {
   "cell_type": "code",
   "execution_count": 29,
   "id": "frequent-superintendent",
   "metadata": {},
   "outputs": [],
   "source": [
    "\n",
    "def calculate_tfidf(tfs, idfs):\n",
    "    tfidf = {}\n",
    "\n",
    "    for word, val in tfs.items():\n",
    "        tfidf[word] = val * idfs[word]\n",
    "        \n",
    "\n",
    "    return tfidf"
   ]
  },
  {
   "cell_type": "markdown",
   "id": "growing-inspection",
   "metadata": {},
   "source": [
    "Let's test test the TFIDFs!"
   ]
  },
  {
   "cell_type": "code",
   "execution_count": 30,
   "id": "spectacular-portland",
   "metadata": {},
   "outputs": [
    {
     "name": "stdout",
     "output_type": "stream",
     "text": [
      "Trump: {'Starting': 0.0, 'icy': 0.0, 'industry': 0.0008188389610867635, 'form': 0.00040941948054338173, 'Creator': 0.00040941948054338173, 'people': 0.0, 'Concord': 0.0, 'left': 0.0012282584416301453, 'empty': 0.00040941948054338173, 'woman': 0.0, 'year': 0.0, 'imagination': 0.0, 'force': 0.0, 'ago': 0.0, 'Less': 0.0, 'example': 0.0, 'stranger': 0.0, 'unclench': 0.0, 'drawn': 0.0, 'fought': 0.0, 'follow': 0.0008188389610867635, 'controls': 0.00040941948054338173, 'reinforce': 0.00040941948054338173, 'path': 0.0, 'may': 0.0, 'you': 0.0, 'they': 0.0, 'crisis': 0.0, 'job': 0.0, 'around': 0.0, 'triumphs': 0.0008188389610867635, 'dollars': 0.0, 'an': 0.0, 'digital': 0.0, 'span': 0.0, 'pride': 0.00040941948054338173, 'perils': 0.0, 'govern': 0.00040941948054338173, 'grows': 0.0, 'striving': 0.00040941948054338173, 'safely': 0.0, 'midst': 0.0, 'ability': 0.0, 'children': 0.0, 'hungry': 0.0, 'over': 0.0, '\"': 0.0, 'glorious': 0.0008188389610867635, 'enduring': 0.0, 'survive': 0.0, 'live': 0.0, 'local': 0.0, 'let': 0.0, 'interests': 0.0, 'beneath': 0.0, 'band': 0.0, 'robbed': 0.00040941948054338173, 'nor': 0.0, 'expense': 0.00040941948054338173, 'finally': 0.0, 'infused': 0.00040941948054338173, 'control': 0.0, 'understood': 0.0, 'most': 0.0, 'stolen': 0.00040941948054338173, 'Protection': 0.00040941948054338173, 'American': 0.0, 'judge': 0.0, 'in': 0.0, 'globe': 0.0, 'victories': 0.0008188389610867635, 'duties': 0.0, 'open': 0.00040941948054338173, 'reminded': 0.0, 'humility': 0.0, 'legacy': 0.0, 'President': 0.0, 'rather': 0.0, 'weakened': 0.0, 'storms': 0.0, 'sweatshops': 0.0, 'itself': 0.0, 'cash': 0.00040941948054338173, 'just': 0.0, 'service': 0.0, 'restraint': 0.0, 'greatness': 0.0, 'further': 0.0, 'heal': 0.00040941948054338173, 'knowledge': 0.0, 'smoke': 0.0, 'every': 0.0, 'decay': 0.00040941948054338173, 'know': 0.0, 'determine': 0.00040941948054338173, 'reaffirm': 0.0, 'corruption': 0.0, 'heroes': 0.0, 'again': 0.0, 'terror': 0.0, 'like': 0.0, 'countries': 0.0012282584416301453, 'lift': 0.00040941948054338173, 'seeks': 0.0, 'act': 0.0, 'emerged': 0.0, 'through': 0.0, 'society': 0.0, 'When': 0.0008188389610867635, 'towards': 0.0, 'levees': 0.0, 'leave': 0.0, 'smaller': 0.0, 'accept': 0.0, 'Americans': 0.0, 'these': 0.0, 'labor': 0.0, 'sad': 0.00040941948054338173, 'But': 0.0, 'different': 0.00040941948054338173, 'everywhere': 0.0, 'of': 0.0, 'deserve': 0.0, 'confidence': 0.0, 'exists': 0.0008188389610867635, 'earned': 0.0, 'full': 0.0, 'freedoms': 0.00040941948054338173, 'patchwork': 0.0, 'rewards': 0.00040941948054338173, 'railways': 0.00040941948054338173, 'sum': 0.0, 'gangs': 0.00040941948054338173, 'heart': 0.0, 'saw': 0.0, 'ones': 0.00040941948054338173, 'without': 0.0, 'defeat': 0.0, 'out': 0.0, 'brings': 0.0, 'price': 0.0, 'peoples': 0.0, 'which': 0.0, 'consequence': 0.0, 'swift': 0.0, 'grids': 0.0, 'next': 0.0, 'weakness': 0.0, 'Roberts': 0.00040941948054338173, 'peaceful': 0.00040941948054338173, 'foundation': 0.0, 'easily': 0.0, 'gathered': 0.00040941948054338173, 'Gettysburg': 0.0, 'ambitions': 0.0, 'unite': 0.00040941948054338173, 'unity': 0.0, 'dignified': 0.0, 'from': 0.0, 'years': 0.0, 'expedience': 0.0, 'gather': 0.0, 'Today': 0.0, 'evidence': 0.0, 'West': 0.0, 'serve': 0.00040941948054338173, 'share': 0.0008188389610867635, 'with': 0.0, 'has': 0.0, 'These': 0.0, 'petty': 0.0, 'mark': 0.0, 'places': 0.0, 'fixed': 0.0, 'build': 0.0, 'defining': 0.0, 'dying': 0.0, 'struggling': 0.00040941948054338173, 'short': 0.0, 'qualities': 0.0, 'very': 0.0, 'magnificent': 0.0, 'prosperity': 0.0, 'They': 0.0, 'cling': 0.0, 'to': 0.0, 'faint': 0.0, 'jobs': 0.0, 'false': 0.0, 'restore': 0.0, 'rich': 0.00040941948054338173, 'Every': 0.0008188389610867635, 'understand': 0.0, 'capitals': 0.0, 'wrong': 0.0, 'delivered': 0.0, 'disease': 0.00040941948054338173, 'honesty': 0.0, 'Recall': 0.0, 'believers': 0.0, 'too': 0.0, 'own': 0.0008188389610867635, 'controlled': 0.00040941948054338173, 'redistributed': 0.00040941948054338173, 'grace': 0.0, 'been': 0.0, 'soon': 0.0, 'road': 0.0, 'if': 0.0, 'lash': 0.0, 'lines': 0.0, 'say': 0.0, 'side': 0.0, 'throughout': 0.0, 'needed': 0.0, 'industries': 0.00040941948054338173, 'assembled': 0.00040941948054338173, 'curiosity': 0.0, 'business': 0.0, 'eradicate': 0.00040941948054338173, 'former': 0.0, 'proclaim': 0.0, 'upon': 0.0, 'rightful': 0.0, 'about': 0.0008188389610867635, '...': 0.0, 'hatreds': 0.0, 'power': 0.0, 'starting': 0.00040941948054338173, 'by': 0.0, 'riches': 0.0, 'matters': 0.00040941948054338173, 'obscure': 0.0, 'noble': 0.0, 'strong': 0.00040941948054338173, 'flag': 0.00040941948054338173, 'other': 0.0, 'On': 0.0, 'friend': 0.0, 'depends': 0.0, 'special': 0.00040941948054338173, 'big': 0.0, 'openly': 0.00040941948054338173, 'watchful': 0.0, 'race': 0.0, 'things': 0.0, 'swill': 0.0, 'public': 0.0, 'this': 0.0, 'because': 0.0, 'What': 0.0, 'grudgingly': 0.0, 'sun': 0.0, 'shape': 0.0, 'dangers': 0.0, 'across': 0.0, 'course': 0.00040941948054338173, 'humanity': 0.0, 'science': 0.0, 'village': 0.0, 'enemy': 0.0, 'hardships': 0.00040941948054338173, 'aims': 0.0, 'presidential': 0.0, 'give': 0.0, 'doubt': 0.0, 'civilized': 0.00040941948054338173, 'making': 0.00040941948054338173, 'bestowed': 0.0, 'inhabit': 0.0, 'safety': 0.0, 'Obama': 0.0012282584416301453, 'enforcement': 0.00040941948054338173, 'going': 0.00040941948054338173, 'off': 0.0, 'Now': 0.0, 'That': 0.0, 'emanates': 0.0, 'task': 0.0, 'simple': 0.00040941948054338173, 'students': 0.00040941948054338173, 'true': 0.0, 'infrastructure': 0.00040941948054338173, 'conviction': 0.00040941948054338173, 'back': 0.0, 'raw': 0.0, 'into': 0.00040941948054338173, 'January': 0.00040941948054338173, 'begin': 0.0, 'quality': 0.0, 'Its': 0.0, 'ills': 0.0, 'same': 0.0024565168832602906, 'hope': 0.0, 'effort': 0.0, 'bless': 0.0, 'patriots': 0.0, 'meaning': 0.0, 'heard': 0.00040941948054338173, 'remembered': 0.00040941948054338173, 'listening': 0.00040941948054338173, 'rebuilding': 0.00040941948054338173, 'No': 0.00040941948054338173, 'one': 0.0, 'promise': 0.0, 'DC': 0.00040941948054338173, 'part': 0.0, 'refused': 0.0, 'One': 0.00040941948054338173, 'difficult': 0.0, 'then': 0.0, 'birth': 0.0, 'fear': 0.0, 'forgotten': 0.0, 'spirit': 0.0, 'helps': 0.0, 'innocents': 0.0, 'lay': 0.0, 'blood': 0.0, 'hear': 0.00040941948054338173, 'last': 0.0, 'bold': 0.0, 'government': 0.0, 'spent': 0.00040941948054338173, 'rule': 0.0, 'Iraq': 0.0, 'settling': 0.0, 'instruments': 0.0, 'winning': 0.0008188389610867635, 'silencing': 0.0, 'Forty': 0.0, 'segregation': 0.0, 'start': 0.00040941948054338173, 'Hindus': 0.0, 'assure': 0.0, 'months': 0.0, 'want': 0.00040941948054338173, 'dream': 0.00040941948054338173, 'flush': 0.00040941948054338173, 'also': 0.0, 'near': 0.00040941948054338173, 'carnage': 0.00040941948054338173, 'more': 0.0, 'civil': 0.0, 'virtue': 0.0, 'room': 0.00040941948054338173, 'suggest': 0.0, 'that': 0.0, 'unmatched': 0.0, 'Founding': 0.0, 'constantly': 0.00040941948054338173, 'lose': 0.0, 'wage': 0.0, 'honor': 0.0, 'success': 0.0, 'body': 0.00040941948054338173, 'patrol': 0.0, 'simply': 0.0, 'Buy': 0.00040941948054338173, 'threat': 0.0, 'achieve': 0.0, 'define': 0.0, 'reality': 0.00040941948054338173, 'endured': 0.0, 'cannot': 0.0, 'now': 0.0, 'exampleâ': 0.00040941948054338173, 'ours': 0.0, 'a': 0.0, 'pleasant': 0.00040941948054338173, 'make': 0.0, 'search': 0.0, 'state': 0.0, 'sky': 0.00040941948054338173, 'run': 0.0, 'behind': 0.00040941948054338173, 'security': 0.0, 'unstoppable': 0.00040941948054338173, 'high': 0.0, 'irresponsibility': 0.0, 'leisure': 0.0, 'world': 0.0, 'pledge': 0.0, 'idea': 0.0, 'Scripture': 0.0, 'faced': 0.0, 'worn': 0.0, 'As': 0.0, 'powerful': 0.0, 'surest': 0.0, 'traveled': 0.0, 'belongs': 0.0008188389610867635, 'outcome': 0.0, 'toiled': 0.0, 'ripped': 0.00040941948054338173, 'pick': 0.0, 'remaking': 0.0, 'convictions': 0.0, 'fair': 0.0, 'each': 0.0, 'schools': 0.0, 'good': 0.0, '.': 0.0, 'plenty': 0.0, 'divisions': 0.00040941948054338173, 'nuclear': 0.0, 'friends': 0.0, 'factories': 0.0, 'statistics': 0.0, 'possessions': 0.0, 'bad': 0.0, 'came': 0.0, 'And': 0.0, 'guardians': 0.0, 'made': 0.0008188389610867635, 'kindness': 0.0, 'tides': 0.0, 'common': 0.0, 'route': 0.0, 'non': 0.0, 'prosperous': 0.0, 'shine': 0.00040941948054338173, 'city': 0.0, 'remembrance': 0.0, 'could': 0.0, 'clean': 0.0, 'leaves': 0.00040941948054338173, 'leaders': 0.0, 'crime': 0.00040941948054338173, 'strangled': 0.0, 'Instead': 0.0, 'precisely': 0.0, 'technology': 0.0, 'sacrificed': 0.0, 'safe': 0.0008188389610867635, 'during': 0.0, 'There': 0.00040941948054338173, 'well': 0.0, 'challenge': 0.00040941948054338173, 'gift': 0.0, 'dissipated': 0.00040941948054338173, 'change': 0.0, 'longer': 0.0, 'giving': 0.0, 'prosper': 0.0, 'however': 0.00040941948054338173, 'watching': 0.0, 'forever': 0.00040941948054338173, 'hall': 0.00040941948054338173, 'ceremony': 0.00040941948054338173, 'do': 0.0, 'greed': 0.0, 'raise': 0.0, 'suffering': 0.0, 'decisions': 0.0, 'liberty': 0.0, 'whip': 0.0, 'when': 0.0, 'stealing': 0.00040941948054338173, 'growth': 0.0, 'Washington': 0.0008188389610867635, 'I': 0.0, 'be': 0.0, 'responsibly': 0.0, 'see': 0.0, 'darkest': 0.0, 'wield': 0.0, 'at': 0.0, 'cooperation': 0.0, 'health': 0.0, 'Jews': 0.0, 'between': 0.0, 'protect': 0.0, 'great': 0.0, 'People': 0.0, 'it': 0.0, 'In': 0.0, 'once': 0.0, 'farms': 0.0, 'drugs': 0.00040941948054338173, 'transform': 0.0, 'winds': 0.0, 'end': 0.0, 'nation': 0.0, 'we': 0.0, 'horizon': 0.0, 'spend': 0.0, 'Politicians': 0.00040941948054338173, 'Clinton': 0.00040941948054338173, 'celebrate': 0.00040941948054338173, 'broken': 0.0, 'nagging': 0.0, 'whose': 0.0, 'his': 0.0, 'hours': 0.0, 'will': 0.0, 'deprived': 0.00040941948054338173, 'charter': 0.0, 'ancestors': 0.0, 'are': 0.0, 'habits': 0.0, 'forge': 0.0, 'us': 0.0, 'flourish': 0.0, 'principles': 0.0, 'My': 0.0, 'alongside': 0.0, 'another': 0.0008188389610867635, 'hire': 0.00040941948054338173, 'inevitable': 0.0, 'peace': 0.0, 'question': 0.0, 'little': 0.00040941948054338173, 'manage': 0.0, 'tolerate': 0.0, 'meet': 0.0, 'sow': 0.0, 'find': 0.0, 'trillions': 0.0008188389610867635, 'remains': 0.0, 'who': 0.0, 'soldiers': 0.00040941948054338173, 'Your': 0.00040941948054338173, 'struggled': 0.0, 'capacity': 0.0, 'believe': 0.0, 'First': 0.00040941948054338173, 'amidst': 0.0, 'patriotism': 0.0, 'radical': 0.00040941948054338173, 'charity': 0.0, 'lives': 0.00040941948054338173, 'defended': 0.00040941948054338173, 'extend': 0.0, 'might': 0.0, 'orderly': 0.00040941948054338173, 'doing': 0.00040941948054338173, 'brave': 0.0, 'failure': 0.0, 'universities': 0.0, 'consumed': 0.0, 'relative': 0.0, 'lower': 0.0, 'souls': 0.00040941948054338173, 'foes': 0.0, 'workers': 0.0, '4': 0.00040941948054338173, 'earlier': 0.0, 'Domestic': 0.0, 'administration': 0.00040941948054338173, 'red': 0.00040941948054338173, 'cut': 0.0, 'governments': 0.0, 'fame': 0.0, 'taken': 0.0, 'neighborhoods': 0.00040941948054338173, 'match': 0.00040941948054338173, 'disagreements': 0.00040941948054338173, 'nations': 0.0, 'dignity': 0.0, 'always': 0.0, 'complaining': 0.00040941948054338173, 'words': 0.0, 'White': 0.00040941948054338173, 'understanding': 0.0, 'firefighter': 0.0, 'whether': 0.0, 'homes': 0.00040941948054338173, 'So': 0.0, 'work': 0.0, 'shall': 0.0, 'those': 0.0, 'hardship': 0.0, 'Detroit': 0.00040941948054338173, 'You': 0.0008188389610867635, 'generate': 0.0, 'land': 0.0, 'celebration': 0.0, 'someday': 0.0, 'overseas': 0.00040941948054338173, 'electric': 0.0, 'merely': 0.00040941948054338173, 'Guided': 0.0, 'does': 0.0, 'choice': 0.0, 'threats': 0.0, 'companies': 0.00040941948054338173, 'knew': 0.0, 'slaughtering': 0.0, 'Earth': 0.0, 'bleed': 0.00040941948054338173, 'place': 0.0, 'freedom': 0.0, 'issuing': 0.00040941948054338173, 'yes': 0.0, 'settled': 0.0, 'past': 0.00040941948054338173, 'stir': 0.00040941948054338173, 'life': 0.0, 'reaffirming': 0.0, 'justness': 0.0, 'aside': 0.0, 'sake': 0.0, 'Arlington': 0.0, 'tolerance': 0.0, 'afford': 0.0, 'must': 0.0, 'dissent': 0.0, 'documents': 0.0, ',': 0.0, 'tombstones': 0.00040941948054338173, 'trade': 0.00040941948054338173, 'reaped': 0.00040941948054338173, 'memories': 0.0, 'history': 0.0, 'advancing': 0.0, 'generosity': 0.0, 'forward': 0.0, 'Government': 0.0012282584416301453, 'establishment': 0.00040941948054338173, 'country': 0.0, 'enjoy': 0.0, 'chapter': 0.0, 'borne': 0.0, 'Product': 0.0, 'prefer': 0.0, 'can': 0.0, 'served': 0.0, 'decades': 0.00040941948054338173, 'Everyone': 0.00040941948054338173, 'prejudice': 0.00040941948054338173, 'scale': 0.0, 'Fathers': 0.0, 'forth': 0.0, 'All': 0.0, 'even': 0.0, 'but': 0.0, 'fallen': 0.0, 'productive': 0.0, 'unpleasant': 0.0, 'tomorrow': 0.00040941948054338173, 'armies': 0.00040941948054338173, 'cities': 0.00040941948054338173, 'born': 0.0, 'danger': 0.0, 'size': 0.0, 'play': 0.0, 'recognition': 0.0, 'taxes': 0.00040941948054338173, 'Those': 0.0, 'Bible': 0.00040941948054338173, 'Bush': 0.0, 'character': 0.0, 'poor': 0.0, 'as': 0.0, 'alarmed': 0.0, 'look': 0.0, 'borders': 0.0, 'its': 0.0, 'care': 0.0, 'dust': 0.0, 'ourselves': 0.0, 'tunnels': 0.00040941948054338173, 'inducing': 0.0, 'takers': 0.0, 'immigration': 0.00040941948054338173, 'tasted': 0.0, 'Justice': 0.00040941948054338173, 'humbled': 0.0, 'cost': 0.0, 'fuel': 0.0, 'often': 0.0, 'ocean': 0.0008188389610867635, 'historic': 0.00040941948054338173, 'Nor': 0.0, 'Gross': 0.0, 'ground': 0.0, 'goodness': 0.00040941948054338173, 'retirement': 0.0, 'wonders': 0.0, 'favors': 0.0, 'violence': 0.0, 'debate': 0.00040941948054338173, 'eye': 0.0, 'required': 0.0, 'reach': 0.0, 'hands': 0.0, 'no': 0.0, 'language': 0.0, 'total': 0.00040941948054338173, ';': 0.0, '-': 0.0, 'data': 0.0, 'age': 0.0, 'is': 0.0, 'still': 0.0, 'trapped': 0.00040941948054338173, 'ideals': 0.0, 'thrive': 0.00040941948054338173, 'quiet': 0.0, 'Brown': 0.00040941948054338173, 'reject': 0.0, 'week': 0.0, 'arrives': 0.00040941948054338173, 'plans': 0.0, 'Capital': 0.0008188389610867635, 'subsidized': 0.00040941948054338173, 'fate': 0.0, 'use': 0.0, 'forget': 0.00040941948054338173, 'your': 0.0, 'Time': 0.0, 'campfires': 0.0, 'serious': 0.0, 'women': 0.0, 'protected': 0.0020470974027169088, 'This': 0.0, 'thank': 0.0, 'became': 0.00040941948054338173, 'landscape': 0.00040941948054338173, 'enriched': 0.00040941948054338173, 'indifference': 0.0, 'outlast': 0.0, 'remain': 0.0, 'chance': 0.0, 'cause': 0.0, 'fellow': 0.0, 'tell': 0.0, 'expand': 0.0, 'breath': 0.0008188389610867635, 'faith': 0.0, 'affairs': 0.00040941948054338173, 'prudent': 0.0, 'satisfying': 0.0, 'apologize': 0.0, 'era': 0.0, 'rights': 0.0, 'based': 0.0, 'grateful': 0.0, 'and': 0.0, 'At': 0.0, 'poverty': 0.00040941948054338173, 'strength': 0.0, 'till': 0.0, 'market': 0.0, 'man': 0.0, 'mindful': 0.0, 'how': 0.0, 'narrow': 0.0, '!': 0.0, 'unrealized': 0.00040941948054338173, 'ravages': 0.00040941948054338173, 'wealth': 0.0, 'surely': 0.0, 'falter': 0.0, 'please': 0.0, 'rediscover': 0.00040941948054338173, 'potential': 0.00040941948054338173, 'totally': 0.00040941948054338173, 'home': 0.00040941948054338173, 'aid': 0.00040941948054338173, 'journey': 0.0, 'seize': 0.0, 'Carter': 0.00040941948054338173, 'ever': 0.00040941948054338173, 'together': 0.0, 'drafted': 0.0, 'stronger': 0.0, 'given': 0.0, 'hard': 0.0, 'nurture': 0.0, 'while': 0.0024565168832602906, 'tirelessly': 0.0, 'anyone': 0.0008188389610867635, 'told': 0.0, 'Homes': 0.0, 'Their': 0.0, 'stand': 0.0, 'relies': 0.0, 'light': 0.0, 'the': 0.0, 'depended': 0.0, 'products': 0.00040941948054338173, 'dreams': 0.0020470974027169088, 'miseries': 0.00040941948054338173, 'pass': 0.0, 'hatred': 0.0, 'Khe': 0.0, 'bodies': 0.0, 'sights': 0.0, 'he': 0.0, 'harness': 0.0, 'specter': 0.0, 'have': 0.0, 'terrorism': 0.00040941948054338173, 'happiness': 0.0, 'snow': 0.0, 'down': 0.0, 'old': 0.0, 'center': 0.00040941948054338173, 'risk': 0.0, 'Muslim': 0.0, 'founding': 0.0, 'choose': 0.0, 'embody': 0.0, 'wonderful': 0.00040941948054338173, 'transition': 0.0, 'uncertain': 0.0, 'only': 0.0, 've': 0.0012282584416301453, 'stale': 0.0, 'highways': 0.00040941948054338173, 'allegiance': 0.0008188389610867635, 'did': 0.0, 'flow': 0.0, 'something': 0.0, 'bring': 0.001637677922173527, 'Where': 0.0, 'get': 0.0008188389610867635, 'strengthen': 0.0, 'Finally': 0.00040941948054338173, 'began': 0.0, 'shifted': 0.0, 'States': 0.0, 'responsibility': 0.0, 'oath': 0.0, 'gratitude': 0.0, 'tempering': 0.0, 'defend': 0.00040941948054338173, 'soil': 0.0, 'bridges': 0.0, 'love': 0.00040941948054338173, 'shortcuts': 0.0, 'ordered': 0.0, 'rulers': 0.00040941948054338173, 'revolution': 0.0, '.\"': 0.0, 'unlock': 0.00040941948054338173, 'join': 0.0, 'Let': 0.0, 'calls': 0.0, 'already': 0.0, 'Yet': 0.0, 'fist': 0.0, 'hearted': 0.0, 'oceans': 0.0, 'From': 0.0008188389610867635, 'mall': 0.0, 'To': 0.0, 'heritage': 0.0, 'help': 0.0, 'joined': 0.0, 'fascism': 0.0, 'minds': 0.0, 'father': 0.0, 'river': 0.0, 'set': 0.0, 'citizenship': 0.0, 'gladly': 0.0, 'cynics': 0.0, 'willingness': 0.0, 'against': 0.0, 'Mothers': 0.00040941948054338173, 'here': 0.0, 'destroying': 0.00040941948054338173, 'Christians': 0.0, 'keepers': 0.0, 'break': 0.0, 'arguments': 0.0, 'sacrifices': 0.0, 'mutual': 0.0, 'changed': 0.0, 'forbearers': 0.0, 'pain': 0.0008188389610867635, 'restaurant': 0.0, 'fill': 0.00040941948054338173, 'shed': 0.0, 'pursue': 0.0, 'decline': 0.0, 'endure': 0.0, 'many': 0.0, 'war': 0.0, 'tested': 0.0, 'It': 0.0, 'The': 0.0, 'deserts': 0.0, 'clouds': 0.0, 'completely': 0.00040941948054338173, 'humble': 0.0, 'truths': 0.0, 'shuttered': 0.0, 'would': 0.0, 'storm': 0.0, 'remember': 0.0, 'middle': 0.00040941948054338173, 'standing': 0.0, 'grievances': 0.0, 'Nation': 0.0024565168832602906, 'rusted': 0.00040941948054338173, 'decree': 0.00040941948054338173, 'programs': 0.0, 'scattered': 0.00040941948054338173, 'truly': 0.00040941948054338173, 'winter': 0.0, 'rebuild': 0.00040941948054338173, 'hopes': 0.00040941948054338173, 'ushering': 0.0, 'politics': 0.0, ':': 0.0, 'collective': 0.0, 'Because': 0.00040941948054338173, 'friendship': 0.00040941948054338173, 'effect': 0.0, 'mountain': 0.0008188389610867635, 'destroy': 0.0, 'law': 0.0, 'resources': 0.0, 'alone': 0.0, 'mountains': 0.0, 'generations': 0.0, 'services': 0.0, '2017': 0.00040941948054338173, 'group': 0.00040941948054338173, '20': 0.00040941948054338173, 'abandoned': 0.0, 'waters': 0.0, 'crucial': 0.00040941948054338173, 'equal': 0.0, 'eyes': 0.0, 'A': 0.00040941948054338173, 'transfer': 0.00040941948054338173, 'men': 0.0, 'With': 0.0, 'far': 0.0, 'met': 0.0, 'turn': 0.0, 'ultimately': 0.0, 'parent': 0.0, 'protecting': 0.0, 'education': 0.00040941948054338173, 'profound': 0.0, 'vision': 0.0, 'sees': 0.0, 'economy': 0.0, 'choices': 0.0, 'raging': 0.0, 'pleasures': 0.0, 'consider': 0.0, 'proud': 0.00040941948054338173, 'gathering': 0.0, 'windswept': 0.00040941948054338173, 'carried': 0.0, 'worked': 0.0, 'honestly': 0.00040941948054338173, 'faithful': 0.0, 'worldly': 0.0, 'welfare': 0.00040941948054338173, 'talk': 0.0008188389610867635, 'energies': 0.00040941948054338173, 'rules': 0.00040941948054338173, 'way': 0.0, 'prepare': 0.0, 'packed': 0.0, 'salute': 0.00040941948054338173, 'guide': 0.00040941948054338173, 'filled': 0.0, 'expanded': 0.0, 'trust': 0.0, 'putting': 0.0, 'spin': 0.0, 'Black': 0.00040941948054338173, 'held': 0.0, 'was': 0.0, 'refusing': 0.00040941948054338173, 'plowed': 0.0, '--': 0.0, 'become': 0.00040941948054338173, 'politicians': 0.00040941948054338173, 'businesses': 0.0, 'bind': 0.0, 'what': 0.0, 'source': 0.0, 'four': 0.0, 'recriminations': 0.0, 'political': 0.0, 'before': 0.0, 'tanks': 0.0, 'Normandy': 0.0, 'first': 0.0012282584416301453, 'righteous': 0.0008188389610867635, 'faction': 0.0, 'communism': 0.0, 'remained': 0.0, 'defense': 0.0, '\\x80\\x94': 0.0008188389610867635, 'tens': 0.00040941948054338173, 'vital': 0.0, 'voice': 0.00040941948054338173, 'badly': 0.0, 'imagine': 0.0, 'plains': 0.00040941948054338173, 'answer': 0.0, 'demanded': 0.0, 'America': 0.0, 'ages': 0.0, 'huddled': 0.0, 'system': 0.0, 'shineâ': 0.00040941948054338173, 'much': 0.0, 'for': 0.0, 'allow': 0.00040941948054338173, 'regard': 0.0, 'Lady': 0.00040941948054338173, 'respect': 0.0, 'so': 0.0, 'creed': 0.0, 'likes': 0.00040941948054338173, 'themselves': 0.0, 'alliances': 0.0, 'up': 0.0, 'We': 0.0, 'greater': 0.0, 'speak': 0.00040941948054338173, 'some': 0.0, 'grandest': 0.0, 'timeless': 0.0, 'earth': 0.0, 'impose': 0.00040941948054338173, 'doers': 0.0, 'Muslims': 0.0, 'passed': 0.0, 'shaped': 0.0, 'undiminished': 0.0, 'advance': 0.0, 'two': 0.00040941948054338173, 'distant': 0.0, 'roads': 0.0, 'small': 0.0, 'reaching': 0.0, 'Chief': 0.00040941948054338173, 'role': 0.0, 'indicators': 0.0, 'everyone': 0.0012282584416301453, 'return': 0.0, 's': 0.0, 'goods': 0.0, 'Our': 0.0, 'decision': 0.00040941948054338173, 'anything': 0.00040941948054338173, 'skill': 0.0, 'put': 0.00040941948054338173, 'carry': 0.0, 'office': 0.0, 'rising': 0.0, 'stairway': 0.0, 'future': 0.0, 'starved': 0.0, 'courage': 0.0, 'importantly': 0.00040941948054338173, 'moments': 0.0, 'fail': 0.0, 'read': 0.0, 'outside': 0.0, 'bigger': 0.0, 'month': 0.0, 'take': 0.0, 'consume': 0.0, 'Together': 0.0008188389610867635, 'done': 0.0, 'today': 0.0, 'along': 0.00040941948054338173, 'airports': 0.00040941948054338173, 'inventive': 0.0, 'wisdom': 0.00040941948054338173, 'closed': 0.00040941948054338173, 'lost': 0.0, 'Islamic': 0.00040941948054338173, 'living': 0.00040941948054338173, 'disrepair': 0.00040941948054338173, 'shown': 0.0, 'few': 0.0, 'tribe': 0.0, 'culture': 0.0, 'time': 0.0, 'confront': 0.00040941948054338173, 'almighty': 0.00040941948054338173, 'energy': 0.0, 'challenges': 0.0, 'values': 0.0, 'planet': 0.0, 'child': 0.0, 'real': 0.0, 'determination': 0.0, 'Afghanistan': 0.0, 'currents': 0.0, 'Michelle': 0.00040941948054338173, 'military': 0.0008188389610867635, 'lessen': 0.0, 'large': 0.00040941948054338173, 'allowing': 0.00040941948054338173, 'discord': 0.0, 'missiles': 0.0, 'Do': 0.00040941948054338173, 'willing': 0.0, 'than': 0.0, 'millennium': 0.00040941948054338173, 'foreign': 0.0012282584416301453, 'adversaries': 0.0, 'where': 0.0, 'decent': 0.0, 'party': 0.0008188389610867635, 'mysteries': 0.00040941948054338173, 'not': 0.0, 'sacred': 0.0, 'ignored': 0.00040941948054338173, 'measurable': 0.0, 'pat': 0.0, 'whisper': 0.0, 'rugged': 0.0, 'prospered': 0.00040941948054338173, 'progress': 0.0, 'loyalty': 0.0, 'deceit': 0.0, 'never': 0.0, 'solidarity': 0.00040941948054338173, 'nourish': 0.0, 'depletion': 0.00040941948054338173, 'generation': 0.0, 'dark': 0.0, 'precious': 0.0, 'reasonable': 0.00040941948054338173, 'changes': 0.00040941948054338173, 'class': 0.00040941948054338173, 'Thank': 0.0, 'bedrock': 0.00040941948054338173, 'tells': 0.00040941948054338173, 'hand': 0.0, 'network': 0.0, 'movement': 0.0008188389610867635, 'coldest': 0.0, 'inner': 0.00040941948054338173, 'long': 0.0, 'sixty': 0.0, 'sturdy': 0.0, 'urban': 0.00040941948054338173, 'united': 0.0, 'unfolds': 0.0, 'beautiful': 0.00040941948054338173, 'all': 0.0, 'looking': 0.00040941948054338173, 'entitle': 0.0, 'transferring': 0.0008188389610867635, 'Sahn': 0.0, 'reform': 0.0, 'conflict': 0.0, 'opportunity': 0.0, 'or': 0.0, 'Nebraska': 0.00040941948054338173, 'colleges': 0.0, 'yet': 0.0, 'seek': 0.0, 'hour': 0.0, 'were': 0.0, 'space': 0.00040941948054338173, 'citizens': 0.0, 'differences': 0.0, 'intend': 0.0, 'stained': 0.0, 'come': 0.0, 'move': 0.0, 'selflessness': 0.0, 'destiny': 0.0, 'apply': 0.0, 'action': 0.0, 'account': 0.0, 'scarcely': 0.0, 'interest': 0.0, 'works': 0.0, 'millions': 0.0012282584416301453, 'them': 0.0, 'why': 0.0, 'stops': 0.0008188389610867635, 'new': 0.0, 'depth': 0.0, 'moment': 0.0, 'cars': 0.0, 'Rather': 0.0, \"'\": 0.0, 'thought': 0.00040941948054338173, 'sapping': 0.0, 'promises': 0.0, 'flourished': 0.00040941948054338173, 'day': 0.0, 'young': 0.0, 'benefit': 0.00040941948054338173, 'sprawl': 0.00040941948054338173, 'costly': 0.0, 'For': 0.0, 'said': 0.0, 'nothing': 0.0, 'demands': 0.0, 'ready': 0.0, 'families': 0.0, 'United': 0.0, 'blame': 0.0, 'spoken': 0.0, 'individual': 0.0, 'ask': 0.0, 'God': 0.0, 'firm': 0.0, 'reveal': 0.0, 'on': 0.0, 'feed': 0.0, 'decides': 0.0, 'their': 0.0, 'steps': 0.00040941948054338173, 'celebrated': 0.0, 'night': 0.00040941948054338173, 'better': 0.0, 'demand': 0.0, 'seen': 0.00040941948054338173, 'died': 0.0, 'continue': 0.0, 'wisely': 0.0, 'less': 0.0, 'national': 0.0008188389610867635, 'ways': 0.0, 'should': 0.00040941948054338173, 'technologies': 0.00040941948054338173, 'bitter': 0.0, 'gracious': 0.00040941948054338173, 'measure': 0.0, 'warming': 0.0, 'necessity': 0.0, 'lie': 0.0, 'commerce': 0.0, 'threaten': 0.0, 'fight': 0.0008188389610867635, 'How': 0.00040941948054338173, 'my': 0.0, 'wealthy': 0.00040941948054338173, 'free': 0.0, 'face': 0.0, 'subject': 0.0, 'think': 0.00040941948054338173, 'there': 0.0, 'purpose': 0.0, 'waver': 0.0, 'roll': 0.0, 'lead': 0.0, 'ill': 0.0, 'create': 0.0, 'dogmas': 0.0, 'makers': 0.0, 'shores': 0.0, 'chosen': 0.0, 'our': 0.0, 'dissolve': 0.0, 'right': 0.0020470974027169088, 'childish': 0.0, 'capital': 0.0}\n",
      "\n",
      "Obama: {'Starting': 0.00025427262676447, 'icy': 0.00050854525352894, 'industry': 0.0, 'form': 0.0, 'Creator': 0.0, 'people': 0.0, 'Concord': 0.00025427262676447, 'left': 0.0, 'empty': 0.0, 'woman': 0.00025427262676447, 'year': 0.00050854525352894, 'imagination': 0.00025427262676447, 'force': 0.00076281788029341, 'ago': 0.00025427262676447, 'Less': 0.00025427262676447, 'example': 0.00025427262676447, 'stranger': 0.00025427262676447, 'unclench': 0.00025427262676447, 'drawn': 0.00025427262676447, 'fought': 0.00025427262676447, 'follow': 0.0, 'controls': 0.0, 'reinforce': 0.0, 'path': 0.00050854525352894, 'may': 0.00076281788029341, 'you': 0.0, 'they': 0.0, 'crisis': 0.00101709050705788, 'job': 0.0, 'around': 0.00025427262676447, 'triumphs': 0.0, 'dollars': 0.0, 'an': 0.0, 'digital': 0.00025427262676447, 'span': 0.00025427262676447, 'pride': 0.0, 'perils': 0.00025427262676447, 'govern': 0.0, 'grows': 0.00050854525352894, 'striving': 0.0, 'safely': 0.00025427262676447, 'midst': 0.00025427262676447, 'ability': 0.00025427262676447, 'children': 0.0, 'hungry': 0.00025427262676447, 'over': 0.0, '\"': 0.0, 'glorious': 0.0, 'enduring': 0.00050854525352894, 'survive': 0.00025427262676447, 'live': 0.0, 'local': 0.00025427262676447, 'let': 0.0, 'interests': 0.0, 'beneath': 0.00025427262676447, 'band': 0.00025427262676447, 'robbed': 0.0, 'nor': 0.00101709050705788, 'expense': 0.0, 'finally': 0.00025427262676447, 'infused': 0.0, 'control': 0.00025427262676447, 'understood': 0.00050854525352894, 'most': 0.0, 'stolen': 0.0, 'Protection': 0.0, 'American': 0.0, 'judge': 0.00025427262676447, 'in': 0.0, 'globe': 0.00025427262676447, 'victories': 0.0, 'duties': 0.00050854525352894, 'open': 0.0, 'reminded': 0.00025427262676447, 'humility': 0.00025427262676447, 'legacy': 0.00025427262676447, 'President': 0.0, 'rather': 0.0, 'weakened': 0.00025427262676447, 'storms': 0.00050854525352894, 'sweatshops': 0.00025427262676447, 'itself': 0.0, 'cash': 0.0, 'just': 0.0, 'service': 0.00050854525352894, 'restraint': 0.00025427262676447, 'greatness': 0.00050854525352894, 'further': 0.00025427262676447, 'heal': 0.0, 'knowledge': 0.0, 'smoke': 0.00025427262676447, 'every': 0.0, 'decay': 0.0, 'know': 0.00127136313382235, 'determine': 0.0, 'reaffirm': 0.00025427262676447, 'corruption': 0.00025427262676447, 'heroes': 0.00025427262676447, 'again': 0.0, 'terror': 0.00025427262676447, 'like': 0.0, 'countries': 0.0, 'lift': 0.0, 'seeks': 0.00025427262676447, 'act': 0.00025427262676447, 'emerged': 0.00025427262676447, 'through': 0.0, 'society': 0.00025427262676447, 'When': 0.0, 'towards': 0.00025427262676447, 'levees': 0.00025427262676447, 'leave': 0.00025427262676447, 'smaller': 0.00025427262676447, 'accept': 0.0, 'Americans': 0.0, 'these': 0.0, 'labor': 0.0, 'sad': 0.0, 'But': 0.0, 'different': 0.0, 'everywhere': 0.00025427262676447, 'of': 0.0, 'deserve': 0.00025427262676447, 'confidence': 0.0, 'exists': 0.0, 'earned': 0.00050854525352894, 'full': 0.00025427262676447, 'freedoms': 0.0, 'patchwork': 0.00025427262676447, 'rewards': 0.0, 'railways': 0.0, 'sum': 0.00025427262676447, 'gangs': 0.0, 'heart': 0.0, 'saw': 0.00025427262676447, 'ones': 0.0, 'without': 0.00050854525352894, 'defeat': 0.00025427262676447, 'out': 0.0, 'brings': 0.00025427262676447, 'price': 0.00025427262676447, 'peoples': 0.00025427262676447, 'which': 0.0, 'consequence': 0.00025427262676447, 'swift': 0.00025427262676447, 'grids': 0.00025427262676447, 'next': 0.00025427262676447, 'weakness': 0.00025427262676447, 'Roberts': 0.0, 'peaceful': 0.0, 'foundation': 0.00025427262676447, 'easily': 0.00025427262676447, 'gathered': 0.0, 'Gettysburg': 0.00025427262676447, 'ambitions': 0.00050854525352894, 'unite': 0.0, 'unity': 0.0, 'dignified': 0.00025427262676447, 'from': 0.0, 'years': 0.0, 'expedience': 0.00025427262676447, 'gather': 0.0, 'Today': 0.0, 'evidence': 0.00025427262676447, 'West': 0.00050854525352894, 'serve': 0.0, 'share': 0.0, 'with': 0.0, 'has': 0.0, 'These': 0.0, 'petty': 0.00025427262676447, 'mark': 0.00025427262676447, 'places': 0.00025427262676447, 'fixed': 0.00025427262676447, 'build': 0.0, 'defining': 0.00025427262676447, 'dying': 0.00025427262676447, 'struggling': 0.0, 'short': 0.00050854525352894, 'qualities': 0.00025427262676447, 'very': 0.0, 'magnificent': 0.0, 'prosperity': 0.0, 'They': 0.0, 'cling': 0.00025427262676447, 'to': 0.0, 'faint': 0.00025427262676447, 'jobs': 0.0, 'false': 0.00050854525352894, 'restore': 0.0, 'rich': 0.0, 'Every': 0.0, 'understand': 0.0, 'capitals': 0.00025427262676447, 'wrong': 0.00025427262676447, 'delivered': 0.00025427262676447, 'disease': 0.0, 'honesty': 0.00025427262676447, 'Recall': 0.00025427262676447, 'believers': 0.00025427262676447, 'too': 0.0, 'own': 0.0, 'controlled': 0.0, 'redistributed': 0.0, 'grace': 0.00025427262676447, 'been': 0.0, 'soon': 0.00025427262676447, 'road': 0.00025427262676447, 'if': 0.00025427262676447, 'lash': 0.00025427262676447, 'lines': 0.00050854525352894, 'say': 0.00076281788029341, 'side': 0.00025427262676447, 'throughout': 0.0, 'needed': 0.00025427262676447, 'industries': 0.0, 'assembled': 0.0, 'curiosity': 0.00025427262676447, 'business': 0.00025427262676447, 'eradicate': 0.0, 'former': 0.00025427262676447, 'proclaim': 0.00025427262676447, 'upon': 0.00076281788029341, 'rightful': 0.00025427262676447, 'about': 0.0, '...': 0.00076281788029341, 'hatreds': 0.00025427262676447, 'power': 0.0, 'starting': 0.0, 'by': 0.0, 'riches': 0.00025427262676447, 'matters': 0.0, 'obscure': 0.00025427262676447, 'noble': 0.00025427262676447, 'strong': 0.0, 'flag': 0.0, 'other': 0.0, 'On': 0.00050854525352894, 'friend': 0.00050854525352894, 'depends': 0.00025427262676447, 'special': 0.0, 'big': 0.0, 'openly': 0.0, 'watchful': 0.00025427262676447, 'race': 0.00025427262676447, 'things': 0.00101709050705788, 'swill': 0.00025427262676447, 'public': 0.0, 'this': 0.0, 'because': 0.0, 'What': 0.0, 'grudgingly': 0.00025427262676447, 'sun': 0.00025427262676447, 'shape': 0.00025427262676447, 'dangers': 0.00025427262676447, 'across': 0.0, 'course': 0.0, 'humanity': 0.00025427262676447, 'science': 0.00025427262676447, 'village': 0.00025427262676447, 'enemy': 0.00025427262676447, 'hardships': 0.0, 'aims': 0.00025427262676447, 'presidential': 0.00025427262676447, 'give': 0.00025427262676447, 'doubt': 0.00025427262676447, 'civilized': 0.0, 'making': 0.0, 'bestowed': 0.00025427262676447, 'inhabit': 0.00025427262676447, 'safety': 0.00025427262676447, 'Obama': 0.0, 'enforcement': 0.0, 'going': 0.0, 'off': 0.0, 'Now': 0.0, 'That': 0.0, 'emanates': 0.00025427262676447, 'task': 0.00050854525352894, 'simple': 0.0, 'students': 0.0, 'true': 0.00050854525352894, 'infrastructure': 0.0, 'conviction': 0.0, 'back': 0.0, 'raw': 0.00025427262676447, 'into': 0.0, 'January': 0.0, 'begin': 0.00050854525352894, 'quality': 0.00025427262676447, 'Its': 0.00025427262676447, 'ills': 0.00025427262676447, 'same': 0.0, 'hope': 0.00076281788029341, 'effort': 0.0, 'bless': 0.0, 'patriots': 0.0, 'meaning': 0.0, 'heard': 0.0, 'remembered': 0.0, 'listening': 0.0, 'rebuilding': 0.0, 'No': 0.0, 'one': 0.0, 'promise': 0.0, 'DC': 0.0, 'part': 0.0, 'refused': 0.00025427262676447, 'One': 0.0, 'difficult': 0.00025427262676447, 'then': 0.0, 'birth': 0.0, 'fear': 0.0, 'forgotten': 0.0, 'spirit': 0.0, 'helps': 0.00025427262676447, 'innocents': 0.00025427262676447, 'lay': 0.00025427262676447, 'blood': 0.0, 'hear': 0.0, 'last': 0.00076281788029341, 'bold': 0.00025427262676447, 'government': 0.00076281788029341, 'spent': 0.0, 'rule': 0.00025427262676447, 'Iraq': 0.00025427262676447, 'settling': 0.00025427262676447, 'instruments': 0.00025427262676447, 'winning': 0.0, 'silencing': 0.00025427262676447, 'Forty': 0.00025427262676447, 'segregation': 0.00025427262676447, 'start': 0.0, 'Hindus': 0.00025427262676447, 'assure': 0.00025427262676447, 'months': 0.00025427262676447, 'want': 0.0, 'dream': 0.0, 'flush': 0.0, 'also': 0.00050854525352894, 'near': 0.0, 'carnage': 0.0, 'more': 0.00127136313382235, 'civil': 0.00025427262676447, 'virtue': 0.00050854525352894, 'room': 0.0, 'suggest': 0.00025427262676447, 'that': 0.0, 'unmatched': 0.00025427262676447, 'Founding': 0.00025427262676447, 'constantly': 0.0, 'lose': 0.00025427262676447, 'wage': 0.00025427262676447, 'honor': 0.00025427262676447, 'success': 0.0, 'body': 0.0, 'patrol': 0.00025427262676447, 'simply': 0.00025427262676447, 'Buy': 0.0, 'threat': 0.00025427262676447, 'achieve': 0.00025427262676447, 'define': 0.0, 'reality': 0.0, 'endured': 0.00025427262676447, 'cannot': 0.0, 'now': 0.0, 'exampleâ': 0.0, 'ours': 0.00025427262676447, 'a': 0.0, 'pleasant': 0.0, 'make': 0.0, 'search': 0.00025427262676447, 'state': 0.00025427262676447, 'sky': 0.0, 'run': 0.00025427262676447, 'behind': 0.0, 'security': 0.00025427262676447, 'unstoppable': 0.0, 'high': 0.00025427262676447, 'irresponsibility': 0.00025427262676447, 'leisure': 0.00025427262676447, 'world': 0.0, 'pledge': 0.00025427262676447, 'idea': 0.00025427262676447, 'Scripture': 0.00025427262676447, 'faced': 0.00050854525352894, 'worn': 0.00025427262676447, 'As': 0.00050854525352894, 'powerful': 0.00025427262676447, 'surest': 0.00025427262676447, 'traveled': 0.00050854525352894, 'belongs': 0.0, 'outcome': 0.00025427262676447, 'toiled': 0.00025427262676447, 'ripped': 0.0, 'pick': 0.00025427262676447, 'remaking': 0.00025427262676447, 'convictions': 0.00025427262676447, 'fair': 0.00025427262676447, 'each': 0.0, 'schools': 0.0, 'good': 0.0, '.': 0.0, 'plenty': 0.00025427262676447, 'divisions': 0.0, 'nuclear': 0.00025427262676447, 'friends': 0.00025427262676447, 'factories': 0.0, 'statistics': 0.00025427262676447, 'possessions': 0.00025427262676447, 'bad': 0.00025427262676447, 'came': 0.0, 'And': 0.0, 'guardians': 0.00025427262676447, 'made': 0.0, 'kindness': 0.00025427262676447, 'tides': 0.00025427262676447, 'common': 0.00152563576058682, 'route': 0.00025427262676447, 'non': 0.00025427262676447, 'prosperous': 0.00050854525352894, 'shine': 0.0, 'city': 0.0, 'remembrance': 0.00025427262676447, 'could': 0.00025427262676447, 'clean': 0.00025427262676447, 'leaves': 0.0, 'leaders': 0.00025427262676447, 'crime': 0.0, 'strangled': 0.00025427262676447, 'Instead': 0.00025427262676447, 'precisely': 0.00025427262676447, 'technology': 0.00025427262676447, 'sacrificed': 0.00025427262676447, 'safe': 0.0, 'during': 0.00025427262676447, 'There': 0.0, 'well': 0.00050854525352894, 'challenge': 0.0, 'gift': 0.00050854525352894, 'dissipated': 0.0, 'change': 0.00025427262676447, 'longer': 0.0, 'giving': 0.0, 'prosper': 0.0, 'however': 0.0, 'watching': 0.0, 'forever': 0.0, 'hall': 0.0, 'ceremony': 0.0, 'do': 0.0, 'greed': 0.00025427262676447, 'raise': 0.00025427262676447, 'suffering': 0.00025427262676447, 'decisions': 0.00025427262676447, 'liberty': 0.00050854525352894, 'whip': 0.00025427262676447, 'when': 0.0, 'stealing': 0.0, 'growth': 0.00025427262676447, 'Washington': 0.0, 'I': 0.0, 'be': 0.0, 'responsibly': 0.00025427262676447, 'see': 0.00025427262676447, 'darkest': 0.00025427262676447, 'wield': 0.00025427262676447, 'at': 0.0, 'cooperation': 0.00050854525352894, 'health': 0.00050854525352894, 'Jews': 0.00025427262676447, 'between': 0.00076281788029341, 'protect': 0.0, 'great': 0.0, 'People': 0.00025427262676447, 'it': 0.0, 'In': 0.0, 'once': 0.00076281788029341, 'farms': 0.00025427262676447, 'drugs': 0.0, 'transform': 0.00025427262676447, 'winds': 0.00025427262676447, 'end': 0.00101709050705788, 'nation': 0.0, 'we': 0.0, 'horizon': 0.0, 'spend': 0.00025427262676447, 'Politicians': 0.0, 'Clinton': 0.0, 'celebrate': 0.0, 'broken': 0.00025427262676447, 'nagging': 0.00025427262676447, 'whose': 0.00025427262676447, 'his': 0.00025427262676447, 'hours': 0.00050854525352894, 'will': 0.0, 'deprived': 0.0, 'charter': 0.00050854525352894, 'ancestors': 0.00025427262676447, 'are': 0.0, 'habits': 0.00025427262676447, 'forge': 0.00025427262676447, 'us': 0.0, 'flourish': 0.00025427262676447, 'principles': 0.00025427262676447, 'My': 0.00025427262676447, 'alongside': 0.00025427262676447, 'another': 0.0, 'hire': 0.0, 'inevitable': 0.00025427262676447, 'peace': 0.00101709050705788, 'question': 0.00076281788029341, 'little': 0.0, 'manage': 0.00025427262676447, 'tolerate': 0.00025427262676447, 'meet': 0.00101709050705788, 'sow': 0.00025427262676447, 'find': 0.00050854525352894, 'trillions': 0.0, 'remains': 0.00025427262676447, 'who': 0.0, 'soldiers': 0.0, 'Your': 0.0, 'struggled': 0.00025427262676447, 'capacity': 0.00025427262676447, 'believe': 0.00025427262676447, 'First': 0.0, 'amidst': 0.00025427262676447, 'patriotism': 0.0, 'radical': 0.0, 'charity': 0.00025427262676447, 'lives': 0.0, 'defended': 0.0, 'extend': 0.00050854525352894, 'might': 0.00050854525352894, 'orderly': 0.0, 'doing': 0.0, 'brave': 0.00050854525352894, 'failure': 0.00025427262676447, 'universities': 0.00025427262676447, 'consumed': 0.00025427262676447, 'relative': 0.00025427262676447, 'lower': 0.00050854525352894, 'souls': 0.0, 'foes': 0.00025427262676447, 'workers': 0.0, '4': 0.0, 'earlier': 0.00025427262676447, 'Domestic': 0.00025427262676447, 'administration': 0.0, 'red': 0.0, 'cut': 0.00025427262676447, 'governments': 0.00025427262676447, 'fame': 0.00025427262676447, 'taken': 0.00050854525352894, 'neighborhoods': 0.0, 'match': 0.0, 'disagreements': 0.0, 'nations': 0.0, 'dignity': 0.00025427262676447, 'always': 0.0, 'complaining': 0.0, 'words': 0.0, 'White': 0.0, 'understanding': 0.0, 'firefighter': 0.00025427262676447, 'whether': 0.0, 'homes': 0.0, 'So': 0.0, 'work': 0.0, 'shall': 0.00076281788029341, 'those': 0.0025427262676447, 'hardship': 0.00025427262676447, 'Detroit': 0.0, 'You': 0.0, 'generate': 0.00025427262676447, 'land': 0.0, 'celebration': 0.0, 'someday': 0.00025427262676447, 'overseas': 0.0, 'electric': 0.00025427262676447, 'merely': 0.0, 'Guided': 0.00025427262676447, 'does': 0.00025427262676447, 'choice': 0.00025427262676447, 'threats': 0.00025427262676447, 'companies': 0.0, 'knew': 0.00025427262676447, 'slaughtering': 0.00025427262676447, 'Earth': 0.0, 'bleed': 0.0, 'place': 0.00025427262676447, 'freedom': 0.00076281788029341, 'issuing': 0.0, 'yes': 0.0, 'settled': 0.00025427262676447, 'past': 0.0, 'stir': 0.0, 'life': 0.0, 'reaffirming': 0.00025427262676447, 'justness': 0.00025427262676447, 'aside': 0.00025427262676447, 'sake': 0.00025427262676447, 'Arlington': 0.00025427262676447, 'tolerance': 0.00025427262676447, 'afford': 0.00050854525352894, 'must': 0.0, 'dissent': 0.00025427262676447, 'documents': 0.00025427262676447, ',': 0.0, 'tombstones': 0.0, 'trade': 0.0, 'reaped': 0.0, 'memories': 0.00025427262676447, 'history': 0.00076281788029341, 'advancing': 0.00025427262676447, 'generosity': 0.00025427262676447, 'forward': 0.0, 'Government': 0.0, 'establishment': 0.0, 'country': 0.0, 'enjoy': 0.0, 'chapter': 0.00025427262676447, 'borne': 0.0, 'Product': 0.00025427262676447, 'prefer': 0.00025427262676447, 'can': 0.0, 'served': 0.00025427262676447, 'decades': 0.0, 'Everyone': 0.0, 'prejudice': 0.0, 'scale': 0.00025427262676447, 'Fathers': 0.00025427262676447, 'forth': 0.00050854525352894, 'All': 0.00050854525352894, 'even': 0.0, 'but': 0.0, 'fallen': 0.0, 'productive': 0.00025427262676447, 'unpleasant': 0.00025427262676447, 'tomorrow': 0.0, 'armies': 0.0, 'cities': 0.0, 'born': 0.0, 'danger': 0.00025427262676447, 'size': 0.00025427262676447, 'play': 0.00050854525352894, 'recognition': 0.00025427262676447, 'taxes': 0.0, 'Those': 0.00025427262676447, 'Bible': 0.0, 'Bush': 0.0, 'character': 0.00025427262676447, 'poor': 0.00025427262676447, 'as': 0.0, 'alarmed': 0.00025427262676447, 'look': 0.0, 'borders': 0.0, 'its': 0.0, 'care': 0.00076281788029341, 'dust': 0.00025427262676447, 'ourselves': 0.00076281788029341, 'tunnels': 0.0, 'inducing': 0.00025427262676447, 'takers': 0.00025427262676447, 'immigration': 0.0, 'tasted': 0.00025427262676447, 'Justice': 0.0, 'humbled': 0.00025427262676447, 'cost': 0.0, 'fuel': 0.00025427262676447, 'often': 0.00050854525352894, 'ocean': 0.0, 'historic': 0.0, 'Nor': 0.00025427262676447, 'Gross': 0.00025427262676447, 'ground': 0.00025427262676447, 'goodness': 0.0, 'retirement': 0.00025427262676447, 'wonders': 0.00025427262676447, 'favors': 0.00025427262676447, 'violence': 0.00025427262676447, 'debate': 0.0, 'eye': 0.00025427262676447, 'required': 0.00025427262676447, 'reach': 0.00025427262676447, 'hands': 0.0, 'no': 0.0, 'language': 0.00025427262676447, 'total': 0.0, ';': 0.0, '-': 0.0, 'data': 0.00025427262676447, 'age': 0.00050854525352894, 'is': 0.0, 'still': 0.00050854525352894, 'trapped': 0.0, 'ideals': 0.00076281788029341, 'thrive': 0.0, 'quiet': 0.00025427262676447, 'Brown': 0.0, 'reject': 0.00025427262676447, 'week': 0.00025427262676447, 'arrives': 0.0, 'plans': 0.00025427262676447, 'Capital': 0.0, 'subsidized': 0.0, 'fate': 0.00025427262676447, 'use': 0.00050854525352894, 'forget': 0.0, 'your': 0.0, 'Time': 0.00025427262676447, 'campfires': 0.00025427262676447, 'serious': 0.00025427262676447, 'women': 0.0, 'protected': 0.0, 'This': 0.0, 'thank': 0.00025427262676447, 'became': 0.0, 'landscape': 0.0, 'enriched': 0.0, 'indifference': 0.00025427262676447, 'outlast': 0.00025427262676447, 'remain': 0.00050854525352894, 'chance': 0.00025427262676447, 'cause': 0.00025427262676447, 'fellow': 0.0, 'tell': 0.0, 'expand': 0.00025427262676447, 'breath': 0.0, 'faith': 0.00050854525352894, 'affairs': 0.0, 'prudent': 0.00025427262676447, 'satisfying': 0.00025427262676447, 'apologize': 0.00025427262676447, 'era': 0.00050854525352894, 'rights': 0.00025427262676447, 'based': 0.00025427262676447, 'grateful': 0.0, 'and': 0.0, 'At': 0.0, 'poverty': 0.0, 'strength': 0.0, 'till': 0.00025427262676447, 'market': 0.00050854525352894, 'man': 0.00076281788029341, 'mindful': 0.00025427262676447, 'how': 0.00025427262676447, 'narrow': 0.00025427262676447, '!': 0.00025427262676447, 'unrealized': 0.0, 'ravages': 0.0, 'wealth': 0.0, 'surely': 0.00025427262676447, 'falter': 0.00025427262676447, 'please': 0.00025427262676447, 'rediscover': 0.0, 'potential': 0.0, 'totally': 0.0, 'home': 0.0, 'aid': 0.0, 'journey': 0.00076281788029341, 'seize': 0.00025427262676447, 'Carter': 0.0, 'ever': 0.0, 'together': 0.0, 'drafted': 0.00025427262676447, 'stronger': 0.00050854525352894, 'given': 0.00050854525352894, 'hard': 0.00101709050705788, 'nurture': 0.00025427262676447, 'while': 0.0, 'tirelessly': 0.00025427262676447, 'anyone': 0.0, 'told': 0.00025427262676447, 'Homes': 0.00025427262676447, 'Their': 0.0, 'stand': 0.0, 'relies': 0.00025427262676447, 'light': 0.00050854525352894, 'the': 0.0, 'depended': 0.00025427262676447, 'products': 0.0, 'dreams': 0.0, 'miseries': 0.0, 'pass': 0.00025427262676447, 'hatred': 0.00025427262676447, 'Khe': 0.00025427262676447, 'bodies': 0.00025427262676447, 'sights': 0.0, 'he': 0.00025427262676447, 'harness': 0.0, 'specter': 0.00025427262676447, 'have': 0.0, 'terrorism': 0.0, 'happiness': 0.00025427262676447, 'snow': 0.00025427262676447, 'down': 0.0, 'old': 0.0, 'center': 0.0, 'risk': 0.00025427262676447, 'Muslim': 0.00025427262676447, 'founding': 0.00025427262676447, 'choose': 0.00025427262676447, 'embody': 0.00025427262676447, 'wonderful': 0.0, 'transition': 0.0, 'uncertain': 0.00025427262676447, 'only': 0.0, 've': 0.0, 'stale': 0.00025427262676447, 'highways': 0.0, 'allegiance': 0.0, 'did': 0.0, 'flow': 0.00025427262676447, 'something': 0.00050854525352894, 'bring': 0.0, 'Where': 0.00050854525352894, 'get': 0.0, 'strengthen': 0.00025427262676447, 'Finally': 0.0, 'began': 0.00025427262676447, 'shifted': 0.00025427262676447, 'States': 0.0, 'responsibility': 0.00025427262676447, 'oath': 0.0, 'gratitude': 0.00025427262676447, 'tempering': 0.00025427262676447, 'defend': 0.0, 'soil': 0.00025427262676447, 'bridges': 0.0, 'love': 0.0, 'shortcuts': 0.00025427262676447, 'ordered': 0.00025427262676447, 'rulers': 0.0, 'revolution': 0.00025427262676447, '.\"': 0.0, 'unlock': 0.0, 'join': 0.00025427262676447, 'Let': 0.00050854525352894, 'calls': 0.00050854525352894, 'already': 0.00025427262676447, 'Yet': 0.00025427262676447, 'fist': 0.00025427262676447, 'hearted': 0.00025427262676447, 'oceans': 0.00025427262676447, 'From': 0.0, 'mall': 0.00025427262676447, 'To': 0.00101709050705788, 'heritage': 0.00025427262676447, 'help': 0.00025427262676447, 'joined': 0.0, 'fascism': 0.00025427262676447, 'minds': 0.0, 'father': 0.00076281788029341, 'river': 0.00025427262676447, 'set': 0.00025427262676447, 'citizenship': 0.00025427262676447, 'gladly': 0.00025427262676447, 'cynics': 0.00025427262676447, 'willingness': 0.00050854525352894, 'against': 0.0, 'Mothers': 0.0, 'here': 0.0, 'destroying': 0.0, 'Christians': 0.00025427262676447, 'keepers': 0.00025427262676447, 'break': 0.00025427262676447, 'arguments': 0.00025427262676447, 'sacrifices': 0.00025427262676447, 'mutual': 0.00050854525352894, 'changed': 0.00025427262676447, 'forbearers': 0.00025427262676447, 'pain': 0.0, 'restaurant': 0.00025427262676447, 'fill': 0.0, 'shed': 0.00025427262676447, 'pursue': 0.0, 'decline': 0.00025427262676447, 'endure': 0.00025427262676447, 'many': 0.0, 'war': 0.00050854525352894, 'tested': 0.00025427262676447, 'It': 0.0, 'The': 0.0, 'deserts': 0.00025427262676447, 'clouds': 0.00025427262676447, 'completely': 0.0, 'humble': 0.00025427262676447, 'truths': 0.00025427262676447, 'shuttered': 0.0, 'would': 0.00025427262676447, 'storm': 0.00025427262676447, 'remember': 0.0, 'middle': 0.0, 'standing': 0.00025427262676447, 'grievances': 0.00025427262676447, 'Nation': 0.0, 'rusted': 0.0, 'decree': 0.0, 'programs': 0.00025427262676447, 'scattered': 0.0, 'truly': 0.0, 'winter': 0.00050854525352894, 'rebuild': 0.0, 'hopes': 0.0, 'ushering': 0.00025427262676447, 'politics': 0.0, ':': 0.0, 'collective': 0.00025427262676447, 'Because': 0.0, 'friendship': 0.0, 'effect': 0.00025427262676447, 'mountain': 0.0, 'destroy': 0.00025427262676447, 'law': 0.0, 'resources': 0.00025427262676447, 'alone': 0.00025427262676447, 'mountains': 0.00025427262676447, 'generations': 0.00076281788029341, 'services': 0.00025427262676447, '2017': 0.0, 'group': 0.0, '20': 0.0, 'abandoned': 0.00025427262676447, 'waters': 0.00050854525352894, 'crucial': 0.0, 'equal': 0.00025427262676447, 'eyes': 0.00025427262676447, 'A': 0.0, 'transfer': 0.0, 'men': 0.0, 'With': 0.00050854525352894, 'far': 0.0, 'met': 0.00050854525352894, 'turn': 0.00025427262676447, 'ultimately': 0.00025427262676447, 'parent': 0.00025427262676447, 'protecting': 0.00025427262676447, 'education': 0.0, 'profound': 0.00025427262676447, 'vision': 0.0, 'sees': 0.00025427262676447, 'economy': 0.00076281788029341, 'choices': 0.00025427262676447, 'raging': 0.00025427262676447, 'pleasures': 0.00025427262676447, 'consider': 0.00025427262676447, 'proud': 0.0, 'gathering': 0.00025427262676447, 'windswept': 0.0, 'carried': 0.00076281788029341, 'worked': 0.00025427262676447, 'honestly': 0.0, 'faithful': 0.00025427262676447, 'worldly': 0.00025427262676447, 'welfare': 0.0, 'talk': 0.0, 'energies': 0.0, 'rules': 0.0, 'way': 0.0, 'prepare': 0.00025427262676447, 'packed': 0.00025427262676447, 'salute': 0.0, 'guide': 0.0, 'filled': 0.00025427262676447, 'expanded': 0.00025427262676447, 'trust': 0.00050854525352894, 'putting': 0.00025427262676447, 'spin': 0.00025427262676447, 'Black': 0.0, 'held': 0.00025427262676447, 'was': 0.0, 'refusing': 0.0, 'plowed': 0.00025427262676447, '--': 0.00559399778881834, 'become': 0.0, 'politicians': 0.0, 'businesses': 0.00025427262676447, 'bind': 0.00025427262676447, 'what': 0.00127136313382235, 'source': 0.00025427262676447, 'four': 0.00025427262676447, 'recriminations': 0.00025427262676447, 'political': 0.00025427262676447, 'before': 0.0, 'tanks': 0.00025427262676447, 'Normandy': 0.00025427262676447, 'first': 0.0, 'righteous': 0.0, 'faction': 0.00025427262676447, 'communism': 0.00025427262676447, 'remained': 0.00025427262676447, 'defense': 0.00050854525352894, '\\x80\\x94': 0.0, 'tens': 0.0, 'vital': 0.00025427262676447, 'voice': 0.0, 'badly': 0.00025427262676447, 'imagine': 0.00025427262676447, 'plains': 0.0, 'answer': 0.00050854525352894, 'demanded': 0.00025427262676447, 'America': 0.0, 'ages': 0.00025427262676447, 'huddled': 0.00025427262676447, 'system': 0.0, 'shineâ': 0.0, 'much': 0.0, 'for': 0.0, 'allow': 0.0, 'regard': 0.00025427262676447, 'Lady': 0.0, 'respect': 0.00025427262676447, 'so': 0.0, 'creed': 0.00025427262676447, 'likes': 0.0, 'themselves': 0.0, 'alliances': 0.0, 'up': 0.0, 'We': 0.0, 'greater': 0.00101709050705788, 'speak': 0.0, 'some': 0.00076281788029341, 'grandest': 0.00025427262676447, 'timeless': 0.00025427262676447, 'earth': 0.00025427262676447, 'impose': 0.0, 'doers': 0.00025427262676447, 'Muslims': 0.00025427262676447, 'passed': 0.00050854525352894, 'shaped': 0.00025427262676447, 'undiminished': 0.00025427262676447, 'advance': 0.00025427262676447, 'two': 0.0, 'distant': 0.00025427262676447, 'roads': 0.0, 'small': 0.0, 'reaching': 0.00025427262676447, 'Chief': 0.0, 'role': 0.00025427262676447, 'indicators': 0.00025427262676447, 'everyone': 0.0, 'return': 0.00025427262676447, 's': 0.0, 'goods': 0.00025427262676447, 'Our': 0.0, 'decision': 0.0, 'anything': 0.0, 'skill': 0.00025427262676447, 'put': 0.0, 'carry': 0.0, 'office': 0.0, 'rising': 0.00025427262676447, 'stairway': 0.00025427262676447, 'future': 0.0, 'starved': 0.00025427262676447, 'courage': 0.0, 'importantly': 0.0, 'moments': 0.00025427262676447, 'fail': 0.0, 'read': 0.00025427262676447, 'outside': 0.00025427262676447, 'bigger': 0.0, 'month': 0.00025427262676447, 'take': 0.0, 'consume': 0.00025427262676447, 'Together': 0.0, 'done': 0.0, 'today': 0.0, 'along': 0.0, 'airports': 0.0, 'inventive': 0.00025427262676447, 'wisdom': 0.0, 'closed': 0.0, 'lost': 0.00025427262676447, 'Islamic': 0.0, 'living': 0.0, 'disrepair': 0.0, 'shown': 0.00025427262676447, 'few': 0.00025427262676447, 'tribe': 0.00025427262676447, 'culture': 0.00025427262676447, 'time': 0.0, 'confront': 0.0, 'almighty': 0.0, 'energy': 0.00025427262676447, 'challenges': 0.0, 'values': 0.00025427262676447, 'planet': 0.00050854525352894, 'child': 0.0, 'real': 0.00025427262676447, 'determination': 0.00025427262676447, 'Afghanistan': 0.00025427262676447, 'currents': 0.00025427262676447, 'Michelle': 0.0, 'military': 0.0, 'lessen': 0.00025427262676447, 'large': 0.0, 'allowing': 0.0, 'discord': 0.00025427262676447, 'missiles': 0.00025427262676447, 'Do': 0.0, 'willing': 0.00050854525352894, 'than': 0.00203418101411576, 'millennium': 0.0, 'foreign': 0.0, 'adversaries': 0.00025427262676447, 'where': 0.00025427262676447, 'decent': 0.00025427262676447, 'party': 0.0, 'mysteries': 0.0, 'not': 0.0, 'sacred': 0.00025427262676447, 'ignored': 0.0, 'measurable': 0.00025427262676447, 'pat': 0.00025427262676447, 'whisper': 0.00025427262676447, 'rugged': 0.00025427262676447, 'prospered': 0.0, 'progress': 0.00025427262676447, 'loyalty': 0.0, 'deceit': 0.00025427262676447, 'never': 0.0, 'solidarity': 0.0, 'nourish': 0.00025427262676447, 'depletion': 0.0, 'generation': 0.00127136313382235, 'dark': 0.00025427262676447, 'precious': 0.00025427262676447, 'reasonable': 0.0, 'changes': 0.0, 'class': 0.0, 'Thank': 0.0, 'bedrock': 0.0, 'tells': 0.0, 'hand': 0.00025427262676447, 'network': 0.00025427262676447, 'movement': 0.0, 'coldest': 0.00025427262676447, 'inner': 0.0, 'long': 0.0, 'sixty': 0.00025427262676447, 'sturdy': 0.00025427262676447, 'urban': 0.0, 'united': 0.0, 'unfolds': 0.00025427262676447, 'beautiful': 0.0, 'all': 0.0, 'looking': 0.0, 'entitle': 0.00025427262676447, 'transferring': 0.0, 'Sahn': 0.00025427262676447, 'reform': 0.00025427262676447, 'conflict': 0.00050854525352894, 'opportunity': 0.00025427262676447, 'or': 0.0, 'Nebraska': 0.0, 'colleges': 0.00025427262676447, 'yet': 0.00025427262676447, 'seek': 0.0, 'hour': 0.0, 'were': 0.0, 'space': 0.0, 'citizens': 0.0, 'differences': 0.00025427262676447, 'intend': 0.00025427262676447, 'stained': 0.00025427262676447, 'come': 0.0, 'move': 0.00025427262676447, 'selflessness': 0.00025427262676447, 'destiny': 0.0, 'apply': 0.00025427262676447, 'action': 0.0, 'account': 0.00025427262676447, 'scarcely': 0.00025427262676447, 'interest': 0.00025427262676447, 'works': 0.00025427262676447, 'millions': 0.0, 'them': 0.00101709050705788, 'why': 0.00050854525352894, 'stops': 0.0, 'new': 0.0, 'depth': 0.00025427262676447, 'moment': 0.0, 'cars': 0.00025427262676447, 'Rather': 0.00025427262676447, \"'\": 0.0, 'thought': 0.0, 'sapping': 0.00025427262676447, 'promises': 0.00025427262676447, 'flourished': 0.0, 'day': 0.0, 'young': 0.0, 'benefit': 0.0, 'sprawl': 0.0, 'costly': 0.00025427262676447, 'For': 0.0, 'said': 0.00025427262676447, 'nothing': 0.00050854525352894, 'demands': 0.0, 'ready': 0.0, 'families': 0.0, 'United': 0.0, 'blame': 0.00025427262676447, 'spoken': 0.00025427262676447, 'individual': 0.00025427262676447, 'ask': 0.00025427262676447, 'God': 0.0, 'firm': 0.00025427262676447, 'reveal': 0.00025427262676447, 'on': 0.0, 'feed': 0.00050854525352894, 'decides': 0.00025427262676447, 'their': 0.0, 'steps': 0.0, 'celebrated': 0.0, 'night': 0.0, 'better': 0.00050854525352894, 'demand': 0.00025427262676447, 'seen': 0.0, 'died': 0.00025427262676447, 'continue': 0.00025427262676447, 'wisely': 0.00025427262676447, 'less': 0.00152563576058682, 'national': 0.0, 'ways': 0.00025427262676447, 'should': 0.0, 'technologies': 0.0, 'bitter': 0.00025427262676447, 'gracious': 0.0, 'measure': 0.00025427262676447, 'warming': 0.00025427262676447, 'necessity': 0.00025427262676447, 'lie': 0.00025427262676447, 'commerce': 0.00025427262676447, 'threaten': 0.00025427262676447, 'fight': 0.0, 'How': 0.0, 'my': 0.0, 'wealthy': 0.0, 'free': 0.0, 'face': 0.0, 'subject': 0.00025427262676447, 'think': 0.0, 'there': 0.0, 'purpose': 0.00050854525352894, 'waver': 0.00025427262676447, 'roll': 0.00025427262676447, 'lead': 0.0, 'ill': 0.00025427262676447, 'create': 0.00025427262676447, 'dogmas': 0.00025427262676447, 'makers': 0.00025427262676447, 'shores': 0.0, 'chosen': 0.00025427262676447, 'our': 0.0, 'dissolve': 0.00025427262676447, 'right': 0.0, 'childish': 0.00025427262676447, 'capital': 0.0}\n"
     ]
    }
   ],
   "source": [
    "tfidf_01 = calculate_tfidf(tf_01, idfs)\n",
    "tfidf_02 = calculate_tfidf(tf_02, idfs)\n",
    "print(f\"Trump: {tfidf_01}\")\n",
    "print(f\"\\nObama: {tfidf_02}\")"
   ]
  },
  {
   "cell_type": "markdown",
   "id": "genuine-performer",
   "metadata": {},
   "source": [
    "## Challenge 07\n",
    "Let's try it and then visualise it as a DataFrame!\n",
    "\n",
    "Try to fit the two dictionaries into a single DataFrame so that we can visualise it better. Complete the `TODO X` section."
   ]
  },
  {
   "cell_type": "code",
   "execution_count": 32,
   "id": "included-print",
   "metadata": {},
   "outputs": [
    {
     "data": {
      "text/html": [
       "<div>\n",
       "<style scoped>\n",
       "    .dataframe tbody tr th:only-of-type {\n",
       "        vertical-align: middle;\n",
       "    }\n",
       "\n",
       "    .dataframe tbody tr th {\n",
       "        vertical-align: top;\n",
       "    }\n",
       "\n",
       "    .dataframe thead th {\n",
       "        text-align: right;\n",
       "    }\n",
       "</style>\n",
       "<table border=\"1\" class=\"dataframe\">\n",
       "  <thead>\n",
       "    <tr style=\"text-align: right;\">\n",
       "      <th></th>\n",
       "      <th>Starting</th>\n",
       "      <th>icy</th>\n",
       "      <th>industry</th>\n",
       "      <th>form</th>\n",
       "      <th>Creator</th>\n",
       "      <th>people</th>\n",
       "      <th>Concord</th>\n",
       "      <th>left</th>\n",
       "      <th>empty</th>\n",
       "      <th>woman</th>\n",
       "      <th>...</th>\n",
       "      <th>create</th>\n",
       "      <th>dogmas</th>\n",
       "      <th>makers</th>\n",
       "      <th>shores</th>\n",
       "      <th>chosen</th>\n",
       "      <th>our</th>\n",
       "      <th>dissolve</th>\n",
       "      <th>right</th>\n",
       "      <th>childish</th>\n",
       "      <th>capital</th>\n",
       "    </tr>\n",
       "  </thead>\n",
       "  <tbody>\n",
       "    <tr>\n",
       "      <th>0</th>\n",
       "      <td>0.000000</td>\n",
       "      <td>0.000000</td>\n",
       "      <td>0.000819</td>\n",
       "      <td>0.000409</td>\n",
       "      <td>0.000409</td>\n",
       "      <td>0.0</td>\n",
       "      <td>0.000000</td>\n",
       "      <td>0.001228</td>\n",
       "      <td>0.000409</td>\n",
       "      <td>0.000000</td>\n",
       "      <td>...</td>\n",
       "      <td>0.000000</td>\n",
       "      <td>0.000000</td>\n",
       "      <td>0.000000</td>\n",
       "      <td>0.0</td>\n",
       "      <td>0.000000</td>\n",
       "      <td>0.0</td>\n",
       "      <td>0.000000</td>\n",
       "      <td>0.002047</td>\n",
       "      <td>0.000000</td>\n",
       "      <td>0.0</td>\n",
       "    </tr>\n",
       "    <tr>\n",
       "      <th>1</th>\n",
       "      <td>0.000254</td>\n",
       "      <td>0.000509</td>\n",
       "      <td>0.000000</td>\n",
       "      <td>0.000000</td>\n",
       "      <td>0.000000</td>\n",
       "      <td>0.0</td>\n",
       "      <td>0.000254</td>\n",
       "      <td>0.000000</td>\n",
       "      <td>0.000000</td>\n",
       "      <td>0.000254</td>\n",
       "      <td>...</td>\n",
       "      <td>0.000254</td>\n",
       "      <td>0.000254</td>\n",
       "      <td>0.000254</td>\n",
       "      <td>0.0</td>\n",
       "      <td>0.000254</td>\n",
       "      <td>0.0</td>\n",
       "      <td>0.000254</td>\n",
       "      <td>0.000000</td>\n",
       "      <td>0.000254</td>\n",
       "      <td>0.0</td>\n",
       "    </tr>\n",
       "  </tbody>\n",
       "</table>\n",
       "<p>2 rows × 1261 columns</p>\n",
       "</div>"
      ],
      "text/plain": [
       "   Starting       icy  industry      form   Creator  people   Concord  \\\n",
       "0  0.000000  0.000000  0.000819  0.000409  0.000409     0.0  0.000000   \n",
       "1  0.000254  0.000509  0.000000  0.000000  0.000000     0.0  0.000254   \n",
       "\n",
       "       left     empty     woman  ...    create    dogmas    makers  shores  \\\n",
       "0  0.001228  0.000409  0.000000  ...  0.000000  0.000000  0.000000     0.0   \n",
       "1  0.000000  0.000000  0.000254  ...  0.000254  0.000254  0.000254     0.0   \n",
       "\n",
       "     chosen  our  dissolve     right  childish  capital  \n",
       "0  0.000000  0.0  0.000000  0.002047  0.000000      0.0  \n",
       "1  0.000254  0.0  0.000254  0.000000  0.000254      0.0  \n",
       "\n",
       "[2 rows x 1261 columns]"
      ]
     },
     "execution_count": 32,
     "metadata": {},
     "output_type": "execute_result"
    }
   ],
   "source": [
    "import pandas as pd\n",
    "\n",
    "# TODO\n",
    "df = pd.DataFrame([tfidf_01, tfidf_02])\n",
    "df"
   ]
  },
  {
   "cell_type": "markdown",
   "id": "placed-muscle",
   "metadata": {},
   "source": [
    "Now we have TFIDF feature vectors!"
   ]
  },
  {
   "cell_type": "markdown",
   "id": "union-bouquet",
   "metadata": {},
   "source": [
    "# Language Model Experiments\n",
    "Let's play with some popular n-gram language models. We are going to use NLTK again for that and try to predict the sequence of words.\n",
    "\n",
    "First, let's import some libraries."
   ]
  },
  {
   "cell_type": "code",
   "execution_count": 33,
   "id": "boring-bandwidth",
   "metadata": {},
   "outputs": [],
   "source": [
    "from nltk.corpus import gutenberg\n",
    "from nltk.lm import WittenBellInterpolated, MLE, Laplace\n",
    "from nltk.util import ngrams, pad_sequence, everygrams"
   ]
  },
  {
   "cell_type": "markdown",
   "id": "signed-insulin",
   "metadata": {},
   "source": [
    "Next we will build a function that performs the prediction based on MLE"
   ]
  },
  {
   "cell_type": "code",
   "execution_count": 34,
   "id": "changing-standard",
   "metadata": {},
   "outputs": [],
   "source": [
    "def build_mle_estimator(doc_name, n):\n",
    "    # Construct a list of lowercase words from the document\n",
    "    words = [w.lower() for w in inaugural.words(doc_name)]\n",
    "    \n",
    "    # generate ngrams\n",
    "    ngrams = list(everygrams(words, max_len=n))\n",
    "\n",
    "    # build ngram language models\n",
    "    lm = MLE(n)\n",
    "    lm.fit([ngrams], vocabulary_text=words)\n",
    "    print(lm.vocab)\n",
    "    \n",
    "    return lm"
   ]
  },
  {
   "cell_type": "markdown",
   "id": "social-thriller",
   "metadata": {},
   "source": [
    "Build the estimator first."
   ]
  },
  {
   "cell_type": "code",
   "execution_count": 35,
   "id": "silver-thousand",
   "metadata": {},
   "outputs": [
    {
     "name": "stdout",
     "output_type": "stream",
     "text": [
      "<Vocabulary with cutoff=1 unk_label='<UNK>' and 548 items>\n"
     ]
    }
   ],
   "source": [
    "lm = build_mle_estimator(\"2017-Trump.txt\", 2)"
   ]
  },
  {
   "cell_type": "markdown",
   "id": "forward-stevens",
   "metadata": {},
   "source": [
    "Now let's try it!"
   ]
  },
  {
   "cell_type": "code",
   "execution_count": 36,
   "id": "african-charlotte",
   "metadata": {},
   "outputs": [
    {
     "name": "stdout",
     "output_type": "stream",
     "text": [
      "Probability of 'first' followed by 'america': 0.00000\n",
      "Probability of 'america' followed by 'first': 0.10000\n",
      "Probability of 'you' followed by 'thank': 0.00000\n",
      "Probability of 'thank' followed by 'you': 1.00000\n"
     ]
    }
   ],
   "source": [
    "def print_lm_scores(lm):\n",
    "    print(f\"Probability of 'first' followed by 'america': {lm.score(word='america', context=['first']):.5f}\")\n",
    "    print(f\"Probability of 'america' followed by 'first': {lm.score(word='first', context=['america']):.5f}\")\n",
    "\n",
    "    print(f\"Probability of 'you' followed by 'thank': {lm.score(word='thank', context=['you']):.5f}\")\n",
    "    print(f\"Probability of 'thank' followed by 'you': {lm.score(word='you', context=['thank']):.5f}\")\n",
    "\n",
    "print_lm_scores(lm)"
   ]
  },
  {
   "cell_type": "markdown",
   "id": "hybrid-passion",
   "metadata": {},
   "source": [
    "## Challenge 08\n",
    "Try an add-one Laplace smoothing model instead."
   ]
  },
  {
   "cell_type": "code",
   "execution_count": 37,
   "id": "environmental-little",
   "metadata": {},
   "outputs": [],
   "source": [
    "def build_laplace_estimator(doc_name, n):\n",
    "    # TODO - Implement a function simlar to `build_mle_estimator` that instead uses an add-one Laplace smoothing model.\n",
    "    # Hint: you might want to check the NLTK documentation (https://www.nltk.org/api/nltk.lm.html) on that!\n",
    "    words = [w.lower() for w in inaugural.words(doc_name)]\n",
    "    \n",
    "    # generate ngrams\n",
    "    ngrams = list(everygrams(words, max_len=n))\n",
    "\n",
    "    # build ngram language models\n",
    "    lm = Laplace(1)\n",
    "    lm.fit([ngrams], vocabulary_text=words)\n",
    "    print(lm.vocab)\n",
    "    \n",
    "\n",
    "    return lm"
   ]
  },
  {
   "cell_type": "markdown",
   "id": "preceding-board",
   "metadata": {},
   "source": [
    "Build this estimator as well."
   ]
  },
  {
   "cell_type": "code",
   "execution_count": 38,
   "id": "august-soundtrack",
   "metadata": {},
   "outputs": [
    {
     "name": "stdout",
     "output_type": "stream",
     "text": [
      "<Vocabulary with cutoff=1 unk_label='<UNK>' and 548 items>\n"
     ]
    }
   ],
   "source": [
    "lm2 = build_laplace_estimator('2017-Trump.txt', 2)"
   ]
  },
  {
   "cell_type": "markdown",
   "id": "distinct-dining",
   "metadata": {},
   "source": [
    "Now test it and observe any differences in the results."
   ]
  },
  {
   "cell_type": "code",
   "execution_count": 39,
   "id": "steady-flush",
   "metadata": {},
   "outputs": [
    {
     "name": "stdout",
     "output_type": "stream",
     "text": [
      "Probability of 'first' followed by 'america': 0.00181\n",
      "Probability of 'america' followed by 'first': 0.00528\n",
      "Probability of 'you' followed by 'thank': 0.00178\n",
      "Probability of 'thank' followed by 'you': 0.00906\n"
     ]
    }
   ],
   "source": [
    "print_lm_scores(lm2)"
   ]
  },
  {
   "cell_type": "code",
   "execution_count": null,
   "id": "2cd4ff41-ac23-49cf-ad0a-a6dee301d52c",
   "metadata": {},
   "outputs": [],
   "source": []
  }
 ],
 "metadata": {
  "kernelspec": {
   "display_name": "default:Python",
   "language": "python",
   "name": "conda-env-default-py"
  },
  "language_info": {
   "codemirror_mode": {
    "name": "ipython",
    "version": 3
   },
   "file_extension": ".py",
   "mimetype": "text/x-python",
   "name": "python",
   "nbconvert_exporter": "python",
   "pygments_lexer": "ipython3",
   "version": "3.9.7"
  }
 },
 "nbformat": 4,
 "nbformat_minor": 5
}
